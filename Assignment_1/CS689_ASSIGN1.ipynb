{
  "cells": [
    {
      "cell_type": "markdown",
      "metadata": {
        "id": "jETlhzQKBsSC"
      },
      "source": [
        "**INITIALISATION**"
      ]
    },
    {
      "cell_type": "code",
      "execution_count": 1,
      "metadata": {
        "id": "p2eVx8ECX42j"
      },
      "outputs": [],
      "source": [
        "from collections import Counter\n",
        "\n",
        "\n",
        "hi_100='hi_100.txt'\n",
        "hi_10='hi_100.txt'\n",
        "cs689_assignment='cs689_assignment.txt'\n",
        "\n",
        "\n",
        "hindi_matras = {'ा', 'ि', 'ी', 'ु', 'ू', 'े', 'ै', 'ो', 'ौ', 'ं','ः','ँ',' ृ',' ॄ'}\n",
        "swars = {'अ', 'आ', 'इ', 'ई', 'उ', 'ऊ', 'ऋ', 'ॠ', 'ए', 'ऐ', 'ओ', 'औ', 'अं', 'अः','अँ'}\n",
        "punctuation = {'।', '॥', ',', '!', '?','#','▁','.',' '}\n",
        "hindi_consonants = {'क', 'ख', 'ग', 'घ', 'ङ', 'च', 'छ', 'ज', 'झ', 'ञ', 'ट', 'ठ', 'ड', 'ढ', 'ण', 'त', 'थ', 'द', 'ध', 'न', 'प', 'फ', 'ब', 'भ', 'म', 'य', 'र', 'ल', 'व', 'श', 'ष', 'स', 'ह', 'क्ष', 'त्र', 'ज्ञ'}\n",
        "dict=matras_to_swars = { 'ा': 'आ','ि': 'इ','ी': 'ई','ु': 'उ','ू': 'ऊ','े': 'ए','ै': 'ऐ','ो': 'ओ','ौ': 'औ','ं':'अं', 'ः':'अः', 'ँ':'अँ'}\n",
        "rev_dict={'अ':'','आ': 'ा', 'इ': 'ि', 'ई': 'ी', 'उ': 'ु', 'ऊ': 'ू', 'ए': 'े', 'ऐ': 'ै', 'ओ': 'ो', 'औ': 'ौ','अं':'ं', 'अः':'ः','अँ':'ँ','ऋ':' ृ','ॠ':' ॄ'}\n",
        "hindi_chars={'्','ा', 'ि', 'ी', 'ु', 'ू', 'े', 'ै', 'ो', 'ौ', 'ं','ः','ँ','अ', 'आ', 'इ', 'ई', 'उ', 'ऊ', 'ऋ', 'ॠ', 'ए', 'ऐ', 'ओ', 'औ', 'अं', 'अः','अँ',\n",
        "            'क', 'ख', 'ग', 'घ', 'ङ', 'च', 'छ', 'ज', 'झ', 'ञ', 'ट', 'ठ', 'ड', 'ढ', 'ण', 'त', 'थ', 'द', 'ध', 'न', 'प', 'फ', 'ब', 'भ', 'म', 'य', 'र',\n",
        "             'ल', 'व', 'श', 'ष', 'स', 'ह', 'क्ष', 'त्र', 'ज्ञ',' ृ',' ॄ'}"
      ]
    },
    {
      "cell_type": "markdown",
      "metadata": {
        "id": "z4732sGpB909"
      },
      "source": [
        "**HELPER FUNCTIONS**"
      ]
    },
    {
      "cell_type": "code",
      "execution_count": 2,
      "metadata": {
        "id": "qaEZhchvbbUV"
      },
      "outputs": [],
      "source": [
        "\n",
        "def varna_viched(word):\n",
        "    wordlist=[]\n",
        "    if len(word) and word[0]=='्':\n",
        "        word=word[1:]\n",
        "    if len(word)==0 or word==\"▁\" or (word[0] not in hindi_consonants and word[0] not in swars and word[0]!='▁'and word[0] not in hindi_matras) :\n",
        "        return []\n",
        "    if word[0]=='▁':\n",
        "      word=word[1:]\n",
        "    for i in range(len(word)):\n",
        "        if i==0 and word[i] in hindi_matras:\n",
        "          wordlist.append(dict[word[i]])\n",
        "          continue\n",
        "        if i==0 and word[i]=='्':\n",
        "          continue\n",
        "        if word[i] in hindi_consonants:\n",
        "                wordlist.append(word[i] +'्')\n",
        "                if i+1==len(word) or (word[i+1] in hindi_consonants ) or (word[i+1] in {'ं','ः','ँ'}):\n",
        "                    wordlist.append('अ')\n",
        "                elif word[i+1] in hindi_matras:\n",
        "                    wordlist.append(dict[word[i+1]])\n",
        "        elif word[i] in swars:\n",
        "            wordlist.append(word[i])\n",
        "        elif word[i]=='ं' or word[i]=='ः' or word[i]=='ँ':\n",
        "            wordlist.append('अ'+word[i])\n",
        "    return wordlist\n",
        "\n",
        "def extract_chars(list):\n",
        "    all_chars={}\n",
        "    for wordlist in list:\n",
        "      for char in range(len(wordlist)):\n",
        "          all_chars[wordlist[char]]=all_chars.get(wordlist[char], 0)+1\n",
        "    return all_chars\n",
        "\n",
        "def syllable(list):\n",
        "  all_syllable={}\n",
        "  all_syl=[]\n",
        "  syl=''\n",
        "  for wordlist in list:\n",
        "    word_syll=[]\n",
        "    for char in range(len(wordlist)):\n",
        "\n",
        "        if wordlist[char] in swars :\n",
        "\n",
        "            if len(syl)==0:\n",
        "              syl+=wordlist[char]\n",
        "              all_syllable[syl]=all_syllable.get(syl, 0)+1\n",
        "              word_syll.append(syl)\n",
        "              syl=''\n",
        "            else:\n",
        "              if syl.endswith('्'):\n",
        "                syl=syl[:-1]\n",
        "                syl+=rev_dict[wordlist[char]]\n",
        "                all_syllable[syl]=all_syllable.get(syl, 0)+1\n",
        "                word_syll.append(syl)\n",
        "                syl=''\n",
        "        else:\n",
        "            syl+=wordlist[char]\n",
        "    all_syl.append(word_syll)\n",
        "  return all_syl,all_syllable\n",
        "\n",
        "\n",
        "def get_all(anslist):\n",
        "    all_chars=extract_chars(anslist)\n",
        "    all_syl,all_syllable=syllable(anslist)\n",
        "    sorted_chars_by_freq = sorted(all_chars.items(), key=lambda x: x[1], reverse=True)\n",
        "    sorted_syll_by_freq = sorted(all_syllable.items(), key=lambda x: x[1], reverse=True)\n",
        "    top_20_char_unigram=sorted_chars_by_freq[0:20]\n",
        "    top_20_syll_unigram=sorted_syll_by_freq[0:20]\n",
        "    char_bigram = {}\n",
        "    syll_bigram = {}\n",
        "    for word in anslist:\n",
        "      for i in range(1,len(word)):\n",
        "        bigram=word[i-1]+word[i]\n",
        "        char_bigram[bigram]=char_bigram.get(bigram, 0)+1\n",
        "\n",
        "    for word in all_syl:\n",
        "      for i in range(1,len(word)):\n",
        "        bigram=word[i-1]+word[i]\n",
        "        syll_bigram[bigram]=syll_bigram.get(bigram, 0)+1\n",
        "    sorted_charsBigram_by_freq = sorted(char_bigram.items(), key=lambda x: x[1], reverse=True)\n",
        "    sorted_syllBigram_by_freq = sorted(syll_bigram.items(), key=lambda x: x[1], reverse=True)\n",
        "    return top_20_char_unigram,top_20_syll_unigram,sorted_charsBigram_by_freq[:20] ,sorted_syllBigram_by_freq[:20]\n",
        "\n",
        "def clean(spm_tokenss):\n",
        "    spm_tokens=[]\n",
        "    for word in spm_tokenss:\n",
        "        newword=\"\"\n",
        "        for char in word:\n",
        "            if char in hindi_chars:\n",
        "                newword+=char\n",
        "        if len(newword):\n",
        "            spm_tokens.append(newword)\n",
        "    return spm_tokens\n",
        "\n",
        "def get_token_bigram(tokens):\n",
        "    bigramCount={}\n",
        "    for i in range(1,len(tokens)):\n",
        "        bigram=tokens[i-1]+tokens[i]\n",
        "        bigramCount[bigram]=bigramCount.get(bigram, 0)+1\n",
        "    return sorted(bigramCount.items(), key=lambda x: x[1], reverse=True)\n",
        "\n",
        "def get_token_unigram(tokens):\n",
        "    unigramCount={}\n",
        "    for i in range(0,len(tokens)):\n",
        "        unigramCount[tokens[i]]=unigramCount.get(tokens[i] , 0)+1\n",
        "    return sorted(unigramCount.items(), key=lambda x: x[1], reverse=True)\n",
        "\n",
        "def removeSigns(spm_tokenss):\n",
        "    spm_tokens=[]\n",
        "    for word in spm_tokenss:\n",
        "        newword=\"\"\n",
        "        for char in word:\n",
        "            if char not in punctuation:\n",
        "                newword+=char\n",
        "        if len(newword):\n",
        "            spm_tokens.append(newword)\n",
        "    return spm_tokens\n",
        "\n",
        "def calculate_metrics(tokenizer_outputs, ground_truths):\n",
        "  tp,fn,fp=0.0,0.0,0.0\n",
        "  for i in range(len(tokenizer_outputs)):\n",
        "      tp += len(set(tokenizer_outputs[i] ) & set(ground_truths[i] ))\n",
        "      fp += len(set(tokenizer_outputs[i] ) - set(ground_truths[i] ))\n",
        "      fn += len(set(ground_truths[i] ) - set(tokenizer_outputs[i] ))\n",
        "  precision = tp / (tp + fp) if (tp + fp) > 0 else 0.0\n",
        "  recall = tp / (tp + fn) if (tp + fn) > 0 else 0.0\n",
        "  if precision + recall > 0:\n",
        "      f_score = 2 * (precision * recall) / (precision + recall)\n",
        "  else:\n",
        "      f_score = 0.0\n",
        "\n",
        "  return precision, recall, f_score\n",
        "\n",
        "\n",
        "def print_all(top_20_char_unigram,top_20_syll_unigram,top_20_char_bigram,top_20_syll_bigram,token_unigram,token_bigram):\n",
        "  print(\"top_20_char_unigram\",top_20_char_unigram)\n",
        "  print()\n",
        "  print(\"top_20_syll_unigram\",top_20_syll_unigram)\n",
        "  print()\n",
        "  print(\"top_20_char_bigram\",top_20_char_bigram)\n",
        "  print()\n",
        "  print(\"top_20_syll_bigram\",top_20_syll_bigram)\n",
        "  print()\n",
        "  if token_unigram!='':\n",
        "    print(\"token_unigram\",token_unigram)\n",
        "    print()\n",
        "  if token_bigram!='':\n",
        "    print(\"token_bigram\",token_bigram)\n"
      ]
    },
    {
      "cell_type": "markdown",
      "metadata": {
        "id": "jbma0S4WCOa0"
      },
      "source": [
        "**1. UNICODE CORRECTION**"
      ]
    },
    {
      "cell_type": "code",
      "execution_count": 3,
      "metadata": {
        "colab": {
          "base_uri": "https://localhost:8080/"
        },
        "id": "g6pjbVbVX42n",
        "outputId": "bdc6ff69-c23f-42c3-94c6-a447259515ad"
      },
      "outputs": [
        {
          "name": "stdout",
          "output_type": "stream",
          "text": [
            "[['म्', 'त्', 'य्', 'उ', 'अं', 'ज्', 'अ', 'य्', 'अ'], ['न्', 'आ', 'म्', 'अ'], ['क्', 'आ'], ['म्', 'अ', 'त्', 'अ', 'ल्', 'अ', 'ब्', 'अ']]\n"
          ]
        }
      ],
      "source": [
        "anslist=[]\n",
        "all_chars={}\n",
        "all_syllable={}\n",
        "file_path = hi_10\n",
        "with open(file_path, 'r', encoding='utf-8') as file:\n",
        "    for line in file:\n",
        "        l=line.split(\" \")\n",
        "        for word in l:\n",
        "            wordlist=varna_viched(word)\n",
        "            if(len(wordlist)==0):\n",
        "                continue\n",
        "            anslist.append(wordlist)\n",
        "print(anslist[:100])"
      ]
    },
    {
      "cell_type": "markdown",
      "metadata": {
        "id": "IqEsY5hdDQAB"
      },
      "source": [
        "**2.  Top-20 frequent uni-gram and bi-gram frequencies of characters and syllables**"
      ]
    },
    {
      "cell_type": "code",
      "execution_count": null,
      "metadata": {
        "colab": {
          "base_uri": "https://localhost:8080/"
        },
        "id": "2fqfE_OYDNMh",
        "outputId": "b051700f-1f82-4505-f8a2-8f74f9241254"
      },
      "outputs": [
        {
          "name": "stdout",
          "output_type": "stream",
          "text": [
            "top_20_char_unigram [('अ', 6690941), ('आ', 2935020), ('ए', 2279980), ('क्', 2209815), ('र्', 2093692), ('ई', 1422669), ('इ', 1408877), ('अं', 1401113), ('न्', 1319964), ('स्', 1268526), ('ह्', 1127700), ('म्', 1042374), ('त्', 972752), ('ल्', 908591), ('ओ', 884584), ('प्', 797703), ('य्', 744607), ('व्', 616693), ('द्', 602409), ('उ', 581079)]\n",
            "\n",
            "top_20_syll_unigram [('अं', 1185276), ('र', 966721), ('क', 561079), ('न', 465652), ('स', 464354), ('के', 398629), ('प', 370490), ('ने', 324840), ('ल', 303746), ('का', 302337), ('है', 294238), ('त', 289753), ('मे', 288149), ('म', 274527), ('ह', 267380), ('ए', 249348), ('की', 240827), ('अ', 239707), ('ब', 226002), ('या', 219471)]\n",
            "\n",
            "top_20_char_bigram [('र्अ', 1132191), ('अर्', 774695), ('क्अ', 583338), ('स्अ', 497901), ('न्अ', 479380), ('अन्', 423299), ('क्ए', 406862), ('प्अ', 390197), ('अह्', 388150), ('आर्', 364534), ('एअं', 354910), ('त्अ', 341099), ('अक्', 337714), ('न्ए', 331912), ('क्आ', 313152), ('ल्अ', 311576), ('म्अ', 308647), ('अत्', 298955), ('ह्ऐ', 297095), ('म्ए', 296767)]\n",
            "\n",
            "top_20_syll_bigram [('मेअं', 255212), ('कर', 154185), ('और', 112819), ('पर', 97014), ('हैअं', 80033), ('इस', 79381), ('संअं', 55641), ('हीअं', 55507), ('लिए', 53986), ('एक', 51290), ('नही', 48771), ('अप', 43670), ('कार', 37572), ('किया', 36844), ('अंग', 35684), ('रने', 34458), ('योअं', 33327), ('मंअं', 33187), ('कहा', 32800), ('यह', 30199)]\n",
            "\n"
          ]
        }
      ],
      "source": [
        "top_20_char_unigram,top_20_syll_unigram,top_20_char_bigram,top_20_syll_bigram=get_all(anslist)\n",
        "print_all(top_20_char_unigram,top_20_syll_unigram,top_20_char_bigram,top_20_syll_bigram,'','')"
      ]
    },
    {
      "cell_type": "markdown",
      "metadata": {
        "id": "5EHLIWa3FDZU"
      },
      "source": [
        "**4. Unigram 1000**"
      ]
    },
    {
      "cell_type": "code",
      "execution_count": 4,
      "metadata": {
        "id": "8r7mE3_6Jjr4"
      },
      "outputs": [],
      "source": [
        "import sentencepiece as spm\n",
        "\n",
        "corpus_file = hi_100\n",
        "model_prefix = \"hindi_spm_model\"\n",
        "vocab_size = 1000\n",
        "\n",
        "spm.SentencePieceTrainer.Train(f'--input={corpus_file} --model_prefix={model_prefix} --model_type=unigram --vocab_size={vocab_size}')\n",
        "\n",
        "sp = spm.SentencePieceProcessor()\n",
        "sp.load(f'{model_prefix}.model')\n",
        "\n",
        "with open(hi_10, \"r\", encoding=\"utf-8\") as file:\n",
        "    hindi_text = file.read()\n",
        "\n",
        "spm_tokens = sp.encode_as_pieces(hindi_text)\n",
        "\n"
      ]
    },
    {
      "cell_type": "markdown",
      "metadata": {
        "id": "T8m1xXU4epM0"
      },
      "source": [
        "**Printing Unigram 1000 answer**"
      ]
    },
    {
      "cell_type": "code",
      "execution_count": null,
      "metadata": {
        "id": "8bCwjhoCevVZ",
        "outputId": "7e5490fe-b527-458a-9260-34efaa3e43d3"
      },
      "outputs": [
        {
          "name": "stdout",
          "output_type": "stream",
          "text": [
            "top_20_char_unigram [('अ', 9350993), ('आ', 2991109), ('ए', 2318442), ('क्', 2221101), ('र्', 2115631), ('ई', 1460305), ('इ', 1432973), ('न्', 1334418), ('अं', 1310022), ('स्', 1283708), ('ह्', 1133159), ('म्', 1053237), ('त्', 980066), ('ल्', 919917), ('ओ', 896588), ('प्', 805896), ('य्', 753228), ('व्', 624743), ('द्', 607633), ('उ', 587149)]\n",
            "\n",
            "top_20_syll_unigram [('र', 1293028), ('अं', 1201180), ('क', 683417), ('न', 632137), ('स', 596445), ('इ', 590087), ('ए', 565178), ('आ', 548678), ('प', 460033), ('ल', 452497), ('म', 425191), ('के', 400067), ('त', 393604), ('ह', 350832), ('ने', 322934), ('ई', 314165), ('ब', 300156), ('ओ', 298490), ('है', 296114), ('का', 296038)]\n",
            "\n",
            "top_20_char_bigram [('र्अ', 1514714), ('क्अ', 705500), ('न्अ', 643782), ('स्अ', 611390), ('प्अ', 480233), ('अर्', 472306), ('ल्अ', 470130), ('त्अ', 468193), ('म्अ', 462476), ('क्ए', 400441), ('ह्अ', 351259), ('अह्', 344729), ('य्अ', 342979), ('एअं', 332588), ('न्ए', 323222), ('ब्अ', 305646), ('ज्अ', 301505), ('क्आ', 300427), ('ह्ऐ', 296118), ('व्अ', 293565)]\n",
            "\n",
            "top_20_syll_bigram [('मेअं', 248169), ('कर', 166813), ('ओअं', 144628), ('और', 115372), ('पर', 112676), ('इस', 105516), ('हैअं', 80462), ('इत', 64107), ('एअं', 62232), ('एक', 58698), ('हीअं', 54284), ('लिए', 53135), ('इक', 51666), ('अंग', 51321), ('नही', 47279), ('संअं', 44978), ('कार', 41334), ('अप', 39576), ('किया', 36573), ('आई', 35918)]\n",
            "\n",
            "token_unigram [('र', 454418), ('के', 349764), ('न', 337967), ('ल', 275778), ('ा', 256523), ('म', 249938), ('में', 240292), ('की', 219786), ('क', 219752), ('ने', 215783), ('है', 215655), ('ी', 211097), ('त', 193176), ('स', 188105), ('े', 184611), ('का', 184007), ('से', 177011), ('प', 169075), ('को', 168166), ('ज', 165639)]\n",
            "\n",
            "token_bigram [('केलिए', 43622), ('हैकि', 25724), ('ोंके', 21827), ('रा', 20002), ('ोंमें', 19893), ('केसाथ', 18487), ('री', 18211), ('ार', 17863), ('तेहैं', 17738), ('नेके', 17575), ('ोंको', 16971), ('ताहै', 16258), ('कहाकि', 16116), ('केबाद', 14512), ('रु', 14344), ('ोंकी', 14168), ('नके', 13761), ('ान', 13734), ('नेकहा', 12587), ('मत', 12348)]\n"
          ]
        }
      ],
      "source": [
        "spm_tokens=clean(spm_tokens)\n",
        "ans=[]\n",
        "syl=[]\n",
        "for word in spm_tokens:\n",
        "    l=varna_viched(word)\n",
        "    if len(l):\n",
        "      ans.append(l)\n",
        "top_20_char_unigram,top_20_syll_unigram,top_20_char_bigram,top_20_syll_bigram=get_all(ans)\n",
        "token_unigram=get_token_unigram(spm_tokens)[:20]\n",
        "token_bigram=get_token_bigram(spm_tokens)[:20]\n",
        "print_all(top_20_char_unigram,top_20_syll_unigram,top_20_char_bigram,top_20_syll_bigram,token_unigram,token_bigram)"
      ]
    },
    {
      "cell_type": "markdown",
      "metadata": {
        "id": "Sh7uRM_lGMn7"
      },
      "source": [
        "**4. Unigram 2000**"
      ]
    },
    {
      "cell_type": "code",
      "execution_count": 5,
      "metadata": {
        "id": "LxM0SF1vulI1"
      },
      "outputs": [],
      "source": [
        "corpus_file = hi_100\n",
        "model_prefix = \"hindi_spm_model\"\n",
        "vocab_size = 2000\n",
        "\n",
        "spm.SentencePieceTrainer.Train(f'--input={corpus_file} --model_prefix={model_prefix} --model_type=unigram --vocab_size={vocab_size}')\n",
        "\n",
        "sp2000 = spm.SentencePieceProcessor()\n",
        "sp2000.load(f'{model_prefix}.model')\n",
        "\n",
        "with open(hi_10, \"r\", encoding=\"utf-8\") as file:\n",
        "    hindi_text = file.read()\n",
        "\n",
        "spm_tokenss = sp2000.encode_as_pieces(hindi_text)\n",
        "\n"
      ]
    },
    {
      "cell_type": "markdown",
      "metadata": {
        "id": "KhYcRKFYhcQl"
      },
      "source": [
        "**Printing Unigram 2000 Output**"
      ]
    },
    {
      "cell_type": "code",
      "execution_count": null,
      "metadata": {
        "id": "a_XwJMjwha88",
        "outputId": "6718724f-bfe5-4543-9087-06294b02914a"
      },
      "outputs": [
        {
          "name": "stdout",
          "output_type": "stream",
          "text": [
            "top_20_char_unigram [('अ', 8531456), ('आ', 2991109), ('ए', 2317720), ('क्', 2221101), ('र्', 2115631), ('ई', 1460305), ('इ', 1432973), ('अं', 1337447), ('न्', 1334418), ('स्', 1283708), ('ह्', 1133159), ('म्', 1053237), ('त्', 980066), ('ल्', 919917), ('ओ', 896588), ('प्', 805896), ('य्', 753228), ('व्', 624743), ('द्', 607633), ('उ', 587149)]\n",
            "\n",
            "top_20_syll_unigram [('अं', 1201175), ('र', 1165467), ('क', 669081), ('न', 591452), ('स', 565532), ('इ', 444333), ('ए', 444226), ('प', 431116), ('आ', 419832), ('ल', 412202), ('के', 398776), ('त', 371225), ('म', 360980), ('ह', 328915), ('ने', 324012), ('का', 302304), ('है', 296079), ('मे', 288408), ('ब', 276534), ('ई', 273607)]\n",
            "\n",
            "top_20_char_bigram [('र्अ', 1373877), ('क्अ', 693059), ('अर्', 616934), ('न्अ', 603960), ('स्अ', 581990), ('प्अ', 453600), ('त्अ', 436411), ('ल्अ', 427133), ('क्ए', 399726), ('म्अ', 398996), ('अह्', 360537), ('एअं', 338170), ('ह्अ', 332812), ('न्ए', 324459), ('य्अ', 318558), ('क्आ', 307132), ('आर्', 302100), ('ह्ऐ', 296084), ('य्आ', 291860), ('म्ए', 290675)]\n",
            "\n",
            "top_20_syll_bigram [('मेअं', 258076), ('कर', 170213), ('ओअं', 129051), ('और', 120826), ('पर', 109287), ('इस', 94373), ('हैअं', 80450), ('एक', 58537), ('हीअं', 54284), ('लिए', 53135), ('संअं', 50374), ('नही', 49103), ('कार', 47687), ('एअं', 45206), ('अप', 44805), ('अंग', 44372), ('किया', 36573), ('इत', 36024), ('यह', 34017), ('कहा', 32991)]\n",
            "\n",
            "token_unigram [('के', 334803), ('में', 240292), ('है', 215632), ('की', 207268), ('न', 184136), ('ी', 173237), ('ने', 171964), ('ल', 163999), ('र', 162073), ('को', 161616), ('से', 159035), ('का', 157794), ('क', 155576), ('म', 133013), ('स', 126644), ('त', 120097), ('ा', 117568), ('और', 115376), ('ों', 109310), ('पर', 107520)]\n",
            "\n",
            "token_bigram [('केलिए', 43585), ('हैकि', 25575), ('ोंके', 19374), ('केसाथ', 18448), ('ोंमें', 17805), ('कहाकि', 16110), ('ोंको', 14896), ('केबाद', 14507), ('ोंकी', 12660), ('नेके', 12342), ('नेकहा', 12229), ('रहाहै', 12024), ('हैऔर', 11375), ('गयाहै', 11060), ('ताहै', 10766), ('रहेहैं', 10180), ('करनेके', 8851), ('रहीहै', 8754), ('ोंका', 7873), ('ोंसे', 7849)]\n"
          ]
        }
      ],
      "source": [
        "spm_tokens=clean(spm_tokenss)\n",
        "\n",
        "ans=[]\n",
        "syl=[]\n",
        "for word in spm_tokens:\n",
        "    l=varna_viched(word)\n",
        "    if len(l):\n",
        "      ans.append(l)\n",
        "top_20_char_unigram,top_20_syll_unigram,top_20_char_bigram,top_20_syll_bigram=get_all(ans)\n",
        "token_unigram=get_token_unigram(spm_tokens)[:20]\n",
        "token_bigram=get_token_bigram(spm_tokens)[:20]\n",
        "print_all(top_20_char_unigram,top_20_syll_unigram,top_20_char_bigram,top_20_syll_bigram,token_unigram,token_bigram)"
      ]
    },
    {
      "cell_type": "markdown",
      "metadata": {
        "id": "f7CWulpvGdHT"
      },
      "source": [
        "**4. BPE 1000**"
      ]
    },
    {
      "cell_type": "code",
      "execution_count": 6,
      "metadata": {
        "id": "9AwCShj9P7OB"
      },
      "outputs": [],
      "source": [
        "corpus_file = hi_100\n",
        "vocab_size = 1000\n",
        "\n",
        "spm.SentencePieceTrainer.train(f'--input={corpus_file} --model_prefix=bpe_model --model_type=bpe --vocab_size={vocab_size}')\n",
        "\n",
        "# Load the trained model\n",
        "bpe1000 = spm.SentencePieceProcessor()\n",
        "bpe1000.load('bpe_model.model')\n",
        "\n",
        "# Tokenize the corpus\n",
        "spm_tokenss = bpe1000.encode_as_pieces(hindi_text)\n",
        "# print( spm_tokenss)\n",
        "\n"
      ]
    },
    {
      "cell_type": "markdown",
      "metadata": {
        "id": "21PXmB__iL9D"
      },
      "source": [
        "**Printing BPE 1000**"
      ]
    },
    {
      "cell_type": "code",
      "execution_count": null,
      "metadata": {
        "id": "A_NrG3EgiK1Z",
        "outputId": "9d6d1ad0-370c-409a-b006-ec7c2597a305"
      },
      "outputs": [
        {
          "name": "stdout",
          "output_type": "stream",
          "text": [
            "top_20_char_unigram [('अ', 9467318), ('आ', 2991109), ('ए', 2318442), ('क्', 2221101), ('र्', 2115631), ('ई', 1460305), ('इ', 1432973), ('न्', 1334418), ('अं', 1297754), ('स्', 1283708), ('ह्', 1133159), ('म्', 1053237), ('त्', 980066), ('ल्', 919917), ('ओ', 896588), ('प्', 805896), ('य्', 753228), ('व्', 624743), ('द्', 607633), ('उ', 587149)]\n",
            "\n",
            "top_20_syll_unigram [('र', 1252323), ('अं', 1201176), ('आ', 703352), ('क', 698629), ('इ', 681022), ('न', 600941), ('स', 572417), ('ए', 535438), ('प', 493695), ('म', 473180), ('ल', 455436), ('त', 402218), ('के', 391531), ('ह', 355405), ('ने', 325350), ('ब', 320436), ('ओ', 296401), ('है', 296103), ('ग', 295065), ('ज', 289679)]\n",
            "\n",
            "top_20_char_bigram [('र्अ', 1442643), ('क्अ', 721175), ('न्अ', 613056), ('स्अ', 595089), ('अर्', 545257), ('म्अ', 512059), ('प्अ', 512024), ('ल्अ', 461669), ('त्अ', 452136), ('क्ए', 393586), ('ह्अ', 362715), ('आर्', 360707), ('एअं', 351357), ('य्अ', 347502), ('न्ए', 325957), ('ब्अ', 325582), ('अह्', 313382), ('व्अ', 304077), ('ग्अ', 302023), ('ज्अ', 301474)]\n",
            "\n",
            "top_20_syll_bigram [('मेअं', 256370), ('कर', 173643), ('और', 123940), ('ओअं', 123314), ('पर', 112069), ('इस', 95462), ('हैअं', 80594), ('एअं', 79456), ('इक', 67972), ('इत', 66173), ('अंग', 59304), ('कार', 57678), ('हीअं', 55498), ('आर', 54897), ('एक', 54347), ('लिए', 53777), ('आन', 50793), ('संअं', 49753), ('अप', 47964), ('नही', 47278)]\n",
            "\n",
            "token_unigram [('र', 454418), ('के', 349764), ('न', 337967), ('ल', 275778), ('ा', 256523), ('म', 249938), ('में', 240292), ('की', 219786), ('क', 219752), ('ने', 215783), ('है', 215655), ('ी', 211097), ('त', 193176), ('स', 188105), ('े', 184611), ('का', 184007), ('से', 177011), ('प', 169075), ('को', 168166), ('ज', 165639)]\n",
            "\n",
            "token_bigram [('केलिए', 43622), ('हैकि', 25724), ('ोंके', 21827), ('रा', 20002), ('ोंमें', 19893), ('केसाथ', 18487), ('री', 18211), ('ार', 17863), ('तेहैं', 17738), ('नेके', 17575), ('ोंको', 16971), ('ताहै', 16258), ('कहाकि', 16116), ('केबाद', 14512), ('रु', 14344), ('ोंकी', 14168), ('नके', 13761), ('ान', 13734), ('नेकहा', 12587), ('मत', 12348)]\n"
          ]
        }
      ],
      "source": [
        "#preproessing\n",
        "clean_tokens=clean(spm_tokenss)\n",
        "\n",
        "ans=[]\n",
        "syl=[]\n",
        "for word in clean_tokens:\n",
        "    l=varna_viched(word)\n",
        "    if len(l):\n",
        "      ans.append(l)\n",
        "\n",
        "top_20_char_unigram,top_20_syll_unigram,top_20_char_bigram,top_20_syll_bigram=get_all(ans)\n",
        "token_unigram=get_token_unigram(spm_tokens)[:20]\n",
        "token_bigram=get_token_bigram(spm_tokens)[:20]\n",
        "print_all(top_20_char_unigram,top_20_syll_unigram,top_20_char_bigram,top_20_syll_bigram,token_unigram,token_bigram)"
      ]
    },
    {
      "cell_type": "markdown",
      "metadata": {
        "id": "vYEUuXBsHobt"
      },
      "source": [
        "**4. BPE 2000**"
      ]
    },
    {
      "cell_type": "code",
      "execution_count": 7,
      "metadata": {
        "id": "EM3hwiMrX42r",
        "scrolled": false
      },
      "outputs": [],
      "source": [
        "\n",
        "corpus_file = hi_100\n",
        "vocab_size = 2000\n",
        "\n",
        "spm.SentencePieceTrainer.train(f'--input={corpus_file} --model_prefix=bpe_model --model_type=bpe --vocab_size={vocab_size}')\n",
        "\n",
        "# Load the trained model\n",
        "bpe2000 = spm.SentencePieceProcessor()\n",
        "bpe2000.load('bpe_model.model')\n",
        "\n",
        "# Tokenize the corpus\n",
        "bpe_tokenss = bpe2000.encode_as_pieces(hindi_text)\n"
      ]
    },
    {
      "cell_type": "code",
      "execution_count": null,
      "metadata": {
        "id": "xefATpJ09scr"
      },
      "outputs": [],
      "source": [
        "clean_tokens=clean(bpe_tokenss)\n",
        "\n",
        "ans=[]\n",
        "syl=[]\n",
        "for word in clean_tokens:\n",
        "    l=varna_viched(word)\n",
        "    if len(l):\n",
        "      ans.append(l)\n",
        "\n",
        "top_20_char_unigram,top_20_syll_unigram,top_20_char_bigram,top_20_syll_bigram=get_all(ans)\n",
        "token_unigram=get_token_unigram(spm_tokens)[:20]\n",
        "token_bigram=get_token_bigram(spm_tokens)[:20]\n",
        "print_all(top_20_char_unigram,top_20_syll_unigram,top_20_char_bigram,top_20_syll_bigram,token_unigram,token_bigram)"
      ]
    },
    {
      "cell_type": "markdown",
      "metadata": {
        "id": "32WsOXkTHzkq"
      },
      "source": [
        "**4. mBERT 1000**"
      ]
    },
    {
      "cell_type": "code",
      "execution_count": 8,
      "metadata": {
        "colab": {
          "base_uri": "https://localhost:8080/",
          "height": 269,
          "referenced_widgets": [
            "50b4abe0c52c4a669dfa818f9646453c",
            "9edcfd83aa8e43adb44001a592b910fe",
            "24a0b319dd674e6d8fcf624f3e7a8919",
            "8591d1b6edf444d488eb840e7ad0ceb5",
            "c6dc0323aac344b9bcf404a6aeaeec37",
            "fa7b9a72ba074a6f82f65b2b0d51da53",
            "80fefe22b81e465aa73fdbcf942b5901",
            "ce5ac180c6f548db9ea5cfd6c3a8fccd",
            "83f590920e60466a9ef03e4216051dad",
            "825002abad9545188e00a7ffd1524b8f",
            "d94b11db9f094c13bc76c54a82ff4382",
            "a14c864cd96045a28a4f93d2d394dd3e",
            "93b592fd28dc48159a685980af2a21d4",
            "8e976906dd4e4fe1a543041f2ea79a8b",
            "05bab5f8f1fb4c49a7526d884544ba09",
            "223df99cdfa548e5848750cd5513f3ce",
            "7e1a40263d114ac48d0ec9977bd1c3a3",
            "2db4e6ef9373417bb4da3838e34c45ac",
            "fd00c55f2a554d408dfa7b5afb471805",
            "b4df2260d8db4f43b5c42b2efa1c66da",
            "23197eb8f2dd42309023b0b1fefcd2bb",
            "ff171d76839e4f5b9b926f888a02e281",
            "9b2cc16b92b940a09efbc2d63154c459",
            "758f3f67861f4229b90f04f2fff2ef25",
            "9b7af5e21f674b78a6ec53df32fd1b96",
            "7f427cc01bce4298a7b543ef50e47daa",
            "0190d232e7934dee860bee9758e38909",
            "c8193c4b54ce43d2bbf786d2e0787d00",
            "dd00cc412e7b4d11bc2961654441d511",
            "3f792f057278401b93b36b0e3260b32c",
            "1d99ea7271724d23b21e6ce0071c4c1e",
            "b01224a15f4a4ec5b83e649d98e37e12",
            "e0ef89ba23d94f7d9937b43b9c8d85f0",
            "c7adcabefdbd4c3c83d4c680748b13e0",
            "1292e647877b4541b2416a8c08709999",
            "91f1ef2a8e364b1789614e84c2013f95",
            "5182d4414eb2425a84914f9f105200d6",
            "995bbe7805af463d84c364d9a4cb906a",
            "a899a1a4cd004524921e1db7502e9145",
            "b92f5ee2500d4b028e81ec8493b681dc",
            "ad8156c8ff5847b9b07ac05e00afbd38",
            "42e638088e2544f2b75d3ded983f092c",
            "217775fbdbc8471dbb92de22c727ea94",
            "a6edc404a2b34ee5a09d0c0a4b9ec1b1"
          ]
        },
        "id": "KW0GMkldX42s",
        "outputId": "0c589f77-1871-4b33-8b8c-45d41c3e843b",
        "scrolled": true
      },
      "outputs": [
        {
          "name": "stderr",
          "output_type": "stream",
          "text": [
            "/usr/local/lib/python3.10/dist-packages/huggingface_hub/utils/_token.py:88: UserWarning: \n",
            "The secret `HF_TOKEN` does not exist in your Colab secrets.\n",
            "To authenticate with the Hugging Face Hub, create a token in your settings tab (https://huggingface.co/settings/tokens), set it as secret in your Google Colab and restart your session.\n",
            "You will be able to reuse this secret in all of your notebooks.\n",
            "Please note that authentication is recommended but still optional to access public models or datasets.\n",
            "  warnings.warn(\n"
          ]
        },
        {
          "data": {
            "application/vnd.jupyter.widget-view+json": {
              "model_id": "50b4abe0c52c4a669dfa818f9646453c",
              "version_major": 2,
              "version_minor": 0
            },
            "text/plain": [
              "tokenizer_config.json:   0%|          | 0.00/29.0 [00:00<?, ?B/s]"
            ]
          },
          "metadata": {},
          "output_type": "display_data"
        },
        {
          "data": {
            "application/vnd.jupyter.widget-view+json": {
              "model_id": "a14c864cd96045a28a4f93d2d394dd3e",
              "version_major": 2,
              "version_minor": 0
            },
            "text/plain": [
              "vocab.txt:   0%|          | 0.00/996k [00:00<?, ?B/s]"
            ]
          },
          "metadata": {},
          "output_type": "display_data"
        },
        {
          "data": {
            "application/vnd.jupyter.widget-view+json": {
              "model_id": "9b2cc16b92b940a09efbc2d63154c459",
              "version_major": 2,
              "version_minor": 0
            },
            "text/plain": [
              "tokenizer.json:   0%|          | 0.00/1.96M [00:00<?, ?B/s]"
            ]
          },
          "metadata": {},
          "output_type": "display_data"
        },
        {
          "data": {
            "application/vnd.jupyter.widget-view+json": {
              "model_id": "c7adcabefdbd4c3c83d4c680748b13e0",
              "version_major": 2,
              "version_minor": 0
            },
            "text/plain": [
              "config.json:   0%|          | 0.00/625 [00:00<?, ?B/s]"
            ]
          },
          "metadata": {},
          "output_type": "display_data"
        }
      ],
      "source": [
        "##                                       mBERT\n",
        "\n",
        "from transformers import BertTokenizer\n",
        "\n",
        "# Load the mBERT tokenizer\n",
        "mBERTtokenizer1000 = BertTokenizer.from_pretrained('bert-base-multilingual-cased',max_length=1000)\n"
      ]
    },
    {
      "cell_type": "code",
      "execution_count": null,
      "metadata": {
        "id": "8VPm2lKx9scr"
      },
      "outputs": [],
      "source": [
        "tokens5 = mBERTtokenizer1000.tokenize(hindi_text)\n",
        "clean_tokens=clean(tokens5)\n",
        "\n",
        "ans=[]\n",
        "syl=[]\n",
        "for word in clean_tokens:\n",
        "    l=varna_viched(word)\n",
        "    if len(l):\n",
        "      ans.append(l)\n",
        "top_20_char_unigram,top_20_syll_unigram,top_20_char_bigram,top_20_syll_bigram=get_all(ans)\n",
        "token_unigram=get_token_unigram(spm_tokens)[:20]\n",
        "token_bigram=get_token_bigram(spm_tokens)[:20]\n",
        "print_all(top_20_char_unigram,top_20_syll_unigram,top_20_char_bigram,top_20_syll_bigram,token_unigram,token_bigram)"
      ]
    },
    {
      "cell_type": "markdown",
      "metadata": {
        "id": "yRhyAJSAIizD"
      },
      "source": [
        "**4. mBERT 2000**"
      ]
    },
    {
      "cell_type": "code",
      "execution_count": 9,
      "metadata": {
        "id": "BOWUUDaDIgVu"
      },
      "outputs": [],
      "source": [
        "\n",
        "# Load the mBERT tokenizer\n",
        "mBERTtokenizer2000 = BertTokenizer.from_pretrained('bert-base-multilingual-cased',max_length=2000)\n"
      ]
    },
    {
      "cell_type": "code",
      "execution_count": null,
      "metadata": {
        "id": "v_JzgkWy9scr"
      },
      "outputs": [],
      "source": [
        "# Tokenize the text with a maximum length\n",
        "tokens5 = mBERTtokenizer2000.tokenize(hindi_text)"
      ]
    },
    {
      "cell_type": "code",
      "execution_count": null,
      "metadata": {
        "id": "rMFRxTb59scr"
      },
      "outputs": [],
      "source": [
        "\n",
        "clean_tokens=clean(tokens5)\n",
        "\n",
        "ans=[]\n",
        "syl=[]\n",
        "for word in clean_tokens:\n",
        "    l=varna_viched(word)\n",
        "    if len(l):\n",
        "      ans.append(l)\n",
        "top_20_char_unigram,top_20_syll_unigram,top_20_char_bigram,top_20_syll_bigram=get_all(ans)\n",
        "token_unigram=get_token_unigram(spm_tokens)[:20]\n",
        "token_bigram=get_token_bigram(spm_tokens)[:20]\n",
        "print_all(top_20_char_unigram,top_20_syll_unigram,top_20_char_bigram,top_20_syll_bigram,token_unigram,token_bigram)"
      ]
    },
    {
      "cell_type": "markdown",
      "metadata": {
        "id": "iZPEu1HjIy0X"
      },
      "source": [
        "**4.  IndicBERT 1000**"
      ]
    },
    {
      "cell_type": "code",
      "execution_count": 10,
      "metadata": {
        "colab": {
          "base_uri": "https://localhost:8080/",
          "height": 81,
          "referenced_widgets": [
            "31943197ee2b49b1b887c43227d9de3d",
            "160a3d32867d4972ac559a55051dd6b2",
            "ce12a80a84664b58b4df8df8168edbaa",
            "10a5a8e98b8d44089df5172a04b0ccea",
            "fdc4929a788f4028951bd50530954e75",
            "507c9337266f48e9bcb8ef806e39ff32",
            "26bdf1fa45f04f15bd2e0202d3f68ddf",
            "64ae9360951c43c6ba0c37e4347616eb",
            "2858ae6d5ece4dc099797befebad608a",
            "8aef3a212f4746c1b5eb85216f939081",
            "5985f2fc9cc54464836eabd921699086",
            "1583285a5d4d413fa99b79b1ab9cd4a2",
            "bc504a40b9054e84ae63d934a751521c",
            "6de19a9649c241ca86b7989fc8afeeb5",
            "ae3569f11b48484b8dfd3c8b933aa951",
            "e6e8739e28eb4fa0ac4de5b836a67609",
            "e8ccfa5d5bdd40deb46f4511e91c9ebf",
            "9ca1d474ee4547a8953433d2e9a5df0b",
            "0063347e9cc842f1918cdad33b53b568",
            "700c97e546c242e480570ce35be6df83",
            "876f8b62f03d48b99d110fac2b674f39",
            "5bdbeeab9c8045b9b7029232473d6f80"
          ]
        },
        "id": "A-GTA-xbX42t",
        "outputId": "b324ec8c-758e-4d1c-93fb-aab734da62b1"
      },
      "outputs": [
        {
          "data": {
            "application/vnd.jupyter.widget-view+json": {
              "model_id": "31943197ee2b49b1b887c43227d9de3d",
              "version_major": 2,
              "version_minor": 0
            },
            "text/plain": [
              "config.json:   0%|          | 0.00/507 [00:00<?, ?B/s]"
            ]
          },
          "metadata": {},
          "output_type": "display_data"
        },
        {
          "data": {
            "application/vnd.jupyter.widget-view+json": {
              "model_id": "1583285a5d4d413fa99b79b1ab9cd4a2",
              "version_major": 2,
              "version_minor": 0
            },
            "text/plain": [
              "spiece.model:   0%|          | 0.00/5.65M [00:00<?, ?B/s]"
            ]
          },
          "metadata": {},
          "output_type": "display_data"
        }
      ],
      "source": [
        "##     IndicBERT\n",
        "from transformers import AutoTokenizer\n",
        "\n",
        "# Load the IndicBERT tokenizer\n",
        "IndicBERTtokenizer = AutoTokenizer.from_pretrained('ai4bharat/indic-bert')\n",
        "\n"
      ]
    },
    {
      "cell_type": "code",
      "execution_count": null,
      "metadata": {
        "id": "Mdmel9oy9scs"
      },
      "outputs": [],
      "source": [
        "# Tokenize the Hindi text\n",
        "tokens = IndicBERTtokenizer.tokenize(IndicBERTtokenizer.decode(IndicBERTtokenizer.encode(hindi_text, max_length=1000, truncation=True)))\n",
        "\n",
        "indic_tokens=clean(tokens)\n",
        "\n",
        "ans=[]\n",
        "syl=[]\n",
        "for word in indic_tokens:\n",
        "    l=varna_viched(word)\n",
        "    if len(l):\n",
        "      ans.append(l)\n",
        "top_20_char_unigram,top_20_syll_unigram,top_20_char_bigram,top_20_syll_bigram=get_all(ans)\n",
        "token_unigram=get_token_unigram(spm_tokens)[:20]\n",
        "token_bigram=get_token_bigram(spm_tokens)[:20]\n",
        "print_all(top_20_char_unigram,top_20_syll_unigram,top_20_char_bigram,top_20_syll_bigram,token_unigram,token_bigram)"
      ]
    },
    {
      "cell_type": "markdown",
      "metadata": {
        "id": "tjY8U-iLKn__"
      },
      "source": [
        "**4.  IndicBERT 2000**"
      ]
    },
    {
      "cell_type": "code",
      "execution_count": 11,
      "metadata": {
        "id": "7Bg1kemXX42u"
      },
      "outputs": [],
      "source": [
        "##     IndicBERT\n",
        "from transformers import AutoTokenizer\n",
        "\n",
        "# Load the IndicBERT tokenizer\n",
        "IndicBERTtokenizer = AutoTokenizer.from_pretrained('ai4bharat/indic-bert')\n",
        "\n"
      ]
    },
    {
      "cell_type": "code",
      "execution_count": null,
      "metadata": {
        "id": "5MtSyUd89scs"
      },
      "outputs": [],
      "source": [
        "# Tokenize the Hindi text\n",
        "tokens = IndicBERTtokenizer.tokenize(IndicBERTtokenizer.decode(IndicBERTtokenizer.encode(hindi_text, max_length=2000, truncation=True)))\n",
        "\n",
        "indic_tokens=clean(tokens)\n",
        "\n",
        "ans=[]\n",
        "syl=[]\n",
        "for word in indic_tokens:\n",
        "    l=varna_viched(word)\n",
        "    if len(l):\n",
        "      ans.append(l)\n",
        "top_20_char_unigram,top_20_syll_unigram,top_20_char_bigram,top_20_syll_bigram=get_all(ans)\n",
        "token_unigram=get_token_unigram(spm_tokens)[:20]\n",
        "token_bigram=get_token_bigram(spm_tokens)[:20]\n",
        "print_all(top_20_char_unigram,top_20_syll_unigram,top_20_char_bigram,top_20_syll_bigram,token_unigram,token_bigram)"
      ]
    },
    {
      "cell_type": "markdown",
      "metadata": {
        "id": "TzMehKNb9scs"
      },
      "source": [
        "#### 4. White Space Tokenizer"
      ]
    },
    {
      "cell_type": "code",
      "execution_count": null,
      "metadata": {
        "id": "0fa1RxX29scs"
      },
      "outputs": [],
      "source": [
        "whitespace_tokens=removeSigns(hindi_text.split(\" \"))"
      ]
    },
    {
      "cell_type": "code",
      "execution_count": null,
      "metadata": {
        "id": "Q7T3UYx_9scs"
      },
      "outputs": [],
      "source": [
        "ans=[]\n",
        "syl=[]\n",
        "for word in whitespace_tokens:\n",
        "    l=varna_viched(word)\n",
        "    if len(l):\n",
        "      ans.append(l)\n",
        "top_20_char_unigram,top_20_syll_unigram,top_20_char_bigram,top_20_syll_bigram=get_all(ans)\n",
        "token_unigram=get_token_unigram(spm_tokens)[:20]\n",
        "token_bigram=get_token_bigram(spm_tokens)[:20]\n",
        "print_all(top_20_char_unigram,top_20_syll_unigram,top_20_char_bigram,top_20_syll_bigram,token_unigram,token_bigram)"
      ]
    },
    {
      "cell_type": "markdown",
      "metadata": {
        "id": "sw3_iSEcMC7a"
      },
      "source": [
        "**5. Reading Solution 3 file**"
      ]
    },
    {
      "cell_type": "code",
      "execution_count": 13,
      "metadata": {
        "id": "sCR02LeWZtrh"
      },
      "outputs": [],
      "source": [
        "path_of_file=cs689_assignment\n",
        "ques_list=[]\n",
        "ans_list=[]\n",
        "with open(path_of_file, 'r', encoding='utf-8') as file:\n",
        "    for line in file:\n",
        "      if len(line)<2:\n",
        "        continue\n",
        "      if line[1]=='.' or line[2]=='.':\n",
        "        line=line[3:]\n",
        "        if line[0]==\" \":\n",
        "          line=line[1:]\n",
        "        ques_list.append(line[:-2])\n",
        "      else:\n",
        "        ans_list.append(line[:-2])\n"
      ]
    },
    {
      "cell_type": "markdown",
      "metadata": {
        "id": "YDQQRHV2MRTs"
      },
      "source": [
        "**5. Tokenizer on Unigram 1000**"
      ]
    },
    {
      "cell_type": "code",
      "execution_count": 16,
      "metadata": {
        "colab": {
          "base_uri": "https://localhost:8080/"
        },
        "id": "dLQbFiCex81_",
        "outputId": "f361d185-14a3-425f-9c9e-1e84de397353"
      },
      "outputs": [
        {
          "name": "stdout",
          "output_type": "stream",
          "text": [
            "precision:  0.017241379310344827\n",
            "recall: 0.0038412291933418692\n",
            "f_score 0.0062827225130890054\n"
          ]
        }
      ],
      "source": [
        "my_tokens=[]\n",
        "unigram_tokens=[]\n",
        "\n",
        "for line in ques_list:\n",
        "  unigram_tokens.append(removeSigns(sp.encode_as_pieces(line)))\n",
        "for line in ans_list:\n",
        "  my_tokens.append(line.split(','))\n",
        "precision, recall, f_score=calculate_metrics(my_tokens,unigram_tokens)\n",
        "print(\"precision: \",precision)\n",
        "print(\"recall:\",recall)\n",
        "print(\"f_score\",f_score)"
      ]
    },
    {
      "cell_type": "markdown",
      "metadata": {
        "id": "NFXT2OoBNDfp"
      },
      "source": [
        "**5. Tokenizer on Unigram 2000**"
      ]
    },
    {
      "cell_type": "code",
      "execution_count": 17,
      "metadata": {
        "colab": {
          "base_uri": "https://localhost:8080/"
        },
        "id": "nGVyOomGNEmN",
        "outputId": "59e5efca-3f1f-4f19-db89-b85a761c3223"
      },
      "outputs": [
        {
          "name": "stdout",
          "output_type": "stream",
          "text": [
            "precision:  0.022988505747126436\n",
            "recall: 0.005847953216374269\n",
            "f_score 0.009324009324009324\n"
          ]
        }
      ],
      "source": [
        "unigram_tokens2000=[]\n",
        "for line in ques_list:\n",
        "  unigram_tokens2000.append(removeSigns(sp2000.encode_as_pieces(line)))\n",
        "precision, recall, f_score=calculate_metrics(my_tokens,unigram_tokens2000)\n",
        "print(\"precision: \",precision)\n",
        "print(\"recall:\",recall)\n",
        "print(\"f_score\",f_score)"
      ]
    },
    {
      "cell_type": "markdown",
      "metadata": {
        "id": "hrIV2IQZOGGW"
      },
      "source": [
        "**5. Tokenizer on BPE 1000**"
      ]
    },
    {
      "cell_type": "code",
      "execution_count": 18,
      "metadata": {
        "colab": {
          "base_uri": "https://localhost:8080/"
        },
        "id": "Czsq2JpSOFfY",
        "outputId": "b1184c23-7aca-4228-ff02-2ffc38dce6cf"
      },
      "outputs": [
        {
          "name": "stdout",
          "output_type": "stream",
          "text": [
            "precision:  0.011494252873563218\n",
            "recall: 0.002472187886279357\n",
            "f_score 0.004069175991861648\n"
          ]
        }
      ],
      "source": [
        "bpe_tokens=[]\n",
        "for line in ques_list:\n",
        "  bpe_tokens.append(removeSigns(bpe1000.encode_as_pieces(line)))\n",
        "precision, recall, f_score=calculate_metrics(my_tokens,bpe_tokens)\n",
        "print(\"precision: \",precision)\n",
        "print(\"recall:\",recall)\n",
        "print(\"f_score\",f_score)"
      ]
    },
    {
      "cell_type": "markdown",
      "metadata": {
        "id": "DZwLcRa0OrN_"
      },
      "source": [
        "**5. Tokenizer on BPE 2000**"
      ]
    },
    {
      "cell_type": "code",
      "execution_count": 19,
      "metadata": {
        "colab": {
          "base_uri": "https://localhost:8080/"
        },
        "id": "B_dBKso5nxXR",
        "outputId": "d76bc33f-3eb8-41f3-b78f-a018bb4b818a"
      },
      "outputs": [
        {
          "name": "stdout",
          "output_type": "stream",
          "text": [
            "precision:  0.017241379310344827\n",
            "recall: 0.004213483146067416\n",
            "f_score 0.006772009029345373\n"
          ]
        }
      ],
      "source": [
        "bpe_tokens2000=[]\n",
        "for line in ques_list:\n",
        "  bpe_tokens2000.append(removeSigns(bpe2000.encode_as_pieces(line)))\n",
        "precision, recall, f_score=calculate_metrics(my_tokens,bpe_tokens2000)\n",
        "print(\"precision: \",precision)\n",
        "print(\"recall:\",recall)\n",
        "print(\"f_score\",f_score)"
      ]
    },
    {
      "cell_type": "markdown",
      "metadata": {
        "id": "-bk32Qw7PSx9"
      },
      "source": [
        "**5. Tokenizer on mBERT 1000**"
      ]
    },
    {
      "cell_type": "code",
      "execution_count": 20,
      "metadata": {
        "colab": {
          "base_uri": "https://localhost:8080/"
        },
        "id": "VRTljz5Lowzb",
        "outputId": "e97d4e3b-3818-44a9-e922-7f0d6f92dba0"
      },
      "outputs": [
        {
          "name": "stdout",
          "output_type": "stream",
          "text": [
            "precision:  0.005747126436781609\n",
            "recall: 0.0012406947890818859\n",
            "f_score 0.0020408163265306124\n"
          ]
        }
      ],
      "source": [
        "mBERT_tokens=[]\n",
        "for line in ques_list:\n",
        "  mBERT_tokens.append(removeSigns(mBERTtokenizer1000.tokenize(line)))\n",
        "precision, recall, f_score=calculate_metrics(my_tokens,mBERT_tokens)\n",
        "print(\"precision: \",precision)\n",
        "print(\"recall:\",recall)\n",
        "print(\"f_score\",f_score)"
      ]
    },
    {
      "cell_type": "markdown",
      "metadata": {
        "id": "p52MxSTaOw9w"
      },
      "source": [
        "**5. Tokenizer on mBERT 2000**"
      ]
    },
    {
      "cell_type": "code",
      "execution_count": 21,
      "metadata": {
        "colab": {
          "base_uri": "https://localhost:8080/"
        },
        "id": "Kl8hG-vNOwEL",
        "outputId": "43a54bcd-3059-497d-b925-fd583bd1c5b7"
      },
      "outputs": [
        {
          "name": "stdout",
          "output_type": "stream",
          "text": [
            "precision:  0.005747126436781609\n",
            "recall: 0.0012406947890818859\n",
            "f_score 0.0020408163265306124\n"
          ]
        }
      ],
      "source": [
        "mBERT_tokens2000=[]\n",
        "for line in ques_list:\n",
        "  mBERT_tokens2000.append(removeSigns(mBERTtokenizer2000.tokenize(line)))\n",
        "precision, recall, f_score=calculate_metrics(my_tokens,mBERT_tokens2000)\n",
        "print(\"precision: \",precision)\n",
        "print(\"recall:\",recall)\n",
        "print(\"f_score\",f_score)"
      ]
    },
    {
      "cell_type": "markdown",
      "metadata": {
        "id": "xdqNFbPMQQ3H"
      },
      "source": [
        "**5. Tokenizer on IndicBERT 1000**"
      ]
    },
    {
      "cell_type": "code",
      "execution_count": 22,
      "metadata": {
        "colab": {
          "base_uri": "https://localhost:8080/"
        },
        "id": "Q77P0crIqiIh",
        "outputId": "ed8939fd-984d-4e44-9582-68f019d71be7"
      },
      "outputs": [
        {
          "name": "stdout",
          "output_type": "stream",
          "text": [
            "precision:  0.011494252873563218\n",
            "recall: 0.003189792663476874\n",
            "f_score 0.004993757802746566\n"
          ]
        }
      ],
      "source": [
        "IndicBERT_tokens=[]\n",
        "for line in ques_list:\n",
        "  IndicBERT_tokens.append(removeSigns(IndicBERTtokenizer.tokenize(IndicBERTtokenizer.decode(IndicBERTtokenizer.encode(line, max_length=1000, truncation=True)))))\n",
        "precision, recall, f_score=calculate_metrics(my_tokens,IndicBERT_tokens)\n",
        "print(\"precision: \",precision)\n",
        "print(\"recall:\",recall)\n",
        "print(\"f_score\",f_score)"
      ]
    },
    {
      "cell_type": "markdown",
      "metadata": {
        "id": "0CXJFPlPQe0E"
      },
      "source": [
        "**5. Tokenizer on IndicBERT 2000**"
      ]
    },
    {
      "cell_type": "code",
      "execution_count": 23,
      "metadata": {
        "colab": {
          "base_uri": "https://localhost:8080/"
        },
        "id": "bclNGxKBQdEx",
        "outputId": "7e171776-1237-4ea3-e845-e8d75217f662"
      },
      "outputs": [
        {
          "name": "stdout",
          "output_type": "stream",
          "text": [
            "precision:  0.011494252873563218\n",
            "recall: 0.003189792663476874\n",
            "f_score 0.004993757802746566\n"
          ]
        }
      ],
      "source": [
        "IndicBERT_tokens2000=[]\n",
        "for line in ques_list:\n",
        "  IndicBERT_tokens2000.append(removeSigns(IndicBERTtokenizer.tokenize(IndicBERTtokenizer.decode(IndicBERTtokenizer.encode(line, max_length=2000, truncation=True)))))\n",
        "precision, recall, f_score=calculate_metrics(my_tokens,IndicBERT_tokens2000)\n",
        "print(\"precision: \",precision)\n",
        "print(\"recall:\",recall)\n",
        "print(\"f_score\",f_score)"
      ]
    },
    {
      "cell_type": "markdown",
      "metadata": {
        "id": "BmYFwtwb9scv"
      },
      "source": [
        "#### Tokenizer on WhiteSpace"
      ]
    },
    {
      "cell_type": "code",
      "execution_count": 24,
      "metadata": {
        "colab": {
          "base_uri": "https://localhost:8080/"
        },
        "id": "2lSqg4bv9scv",
        "outputId": "7bc040b9-238f-490a-8b15-ccf929d58025"
      },
      "outputs": [
        {
          "name": "stdout",
          "output_type": "stream",
          "text": [
            "precision:  0.040229885057471264\n",
            "recall: 0.015486725663716814\n",
            "f_score 0.022364217252396165\n"
          ]
        }
      ],
      "source": [
        "WS_tokens=[]\n",
        "for line in ques_list:\n",
        "  WS_tokens.append(removeSigns(line.split(\" \")))\n",
        "precision, recall, f_score=calculate_metrics(my_tokens,WS_tokens)\n",
        "print(\"precision: \",precision)\n",
        "print(\"recall:\",recall)\n",
        "print(\"f_score\",f_score)"
      ]
    },
    {
      "cell_type": "code",
      "execution_count": null,
      "metadata": {
        "id": "IGew4-o89scw"
      },
      "outputs": [],
      "source": []
    }
  ],
  "metadata": {
    "colab": {
      "provenance": []
    },
    "kernelspec": {
      "display_name": "Python 3",
      "language": "python",
      "name": "python3"
    },
    "language_info": {
      "codemirror_mode": {
        "name": "ipython",
        "version": 3
      },
      "file_extension": ".py",
      "mimetype": "text/x-python",
      "name": "python",
      "nbconvert_exporter": "python",
      "pygments_lexer": "ipython3",
      "version": "3.11.4"
    },
    "widgets": {
      "application/vnd.jupyter.widget-state+json": {
        "0063347e9cc842f1918cdad33b53b568": {
          "model_module": "@jupyter-widgets/base",
          "model_module_version": "1.2.0",
          "model_name": "LayoutModel",
          "state": {
            "_model_module": "@jupyter-widgets/base",
            "_model_module_version": "1.2.0",
            "_model_name": "LayoutModel",
            "_view_count": null,
            "_view_module": "@jupyter-widgets/base",
            "_view_module_version": "1.2.0",
            "_view_name": "LayoutView",
            "align_content": null,
            "align_items": null,
            "align_self": null,
            "border": null,
            "bottom": null,
            "display": null,
            "flex": null,
            "flex_flow": null,
            "grid_area": null,
            "grid_auto_columns": null,
            "grid_auto_flow": null,
            "grid_auto_rows": null,
            "grid_column": null,
            "grid_gap": null,
            "grid_row": null,
            "grid_template_areas": null,
            "grid_template_columns": null,
            "grid_template_rows": null,
            "height": null,
            "justify_content": null,
            "justify_items": null,
            "left": null,
            "margin": null,
            "max_height": null,
            "max_width": null,
            "min_height": null,
            "min_width": null,
            "object_fit": null,
            "object_position": null,
            "order": null,
            "overflow": null,
            "overflow_x": null,
            "overflow_y": null,
            "padding": null,
            "right": null,
            "top": null,
            "visibility": null,
            "width": null
          }
        },
        "0190d232e7934dee860bee9758e38909": {
          "model_module": "@jupyter-widgets/base",
          "model_module_version": "1.2.0",
          "model_name": "LayoutModel",
          "state": {
            "_model_module": "@jupyter-widgets/base",
            "_model_module_version": "1.2.0",
            "_model_name": "LayoutModel",
            "_view_count": null,
            "_view_module": "@jupyter-widgets/base",
            "_view_module_version": "1.2.0",
            "_view_name": "LayoutView",
            "align_content": null,
            "align_items": null,
            "align_self": null,
            "border": null,
            "bottom": null,
            "display": null,
            "flex": null,
            "flex_flow": null,
            "grid_area": null,
            "grid_auto_columns": null,
            "grid_auto_flow": null,
            "grid_auto_rows": null,
            "grid_column": null,
            "grid_gap": null,
            "grid_row": null,
            "grid_template_areas": null,
            "grid_template_columns": null,
            "grid_template_rows": null,
            "height": null,
            "justify_content": null,
            "justify_items": null,
            "left": null,
            "margin": null,
            "max_height": null,
            "max_width": null,
            "min_height": null,
            "min_width": null,
            "object_fit": null,
            "object_position": null,
            "order": null,
            "overflow": null,
            "overflow_x": null,
            "overflow_y": null,
            "padding": null,
            "right": null,
            "top": null,
            "visibility": null,
            "width": null
          }
        },
        "05bab5f8f1fb4c49a7526d884544ba09": {
          "model_module": "@jupyter-widgets/controls",
          "model_module_version": "1.5.0",
          "model_name": "HTMLModel",
          "state": {
            "_dom_classes": [],
            "_model_module": "@jupyter-widgets/controls",
            "_model_module_version": "1.5.0",
            "_model_name": "HTMLModel",
            "_view_count": null,
            "_view_module": "@jupyter-widgets/controls",
            "_view_module_version": "1.5.0",
            "_view_name": "HTMLView",
            "description": "",
            "description_tooltip": null,
            "layout": "IPY_MODEL_23197eb8f2dd42309023b0b1fefcd2bb",
            "placeholder": "​",
            "style": "IPY_MODEL_ff171d76839e4f5b9b926f888a02e281",
            "value": " 996k/996k [00:00&lt;00:00, 10.9MB/s]"
          }
        },
        "10a5a8e98b8d44089df5172a04b0ccea": {
          "model_module": "@jupyter-widgets/controls",
          "model_module_version": "1.5.0",
          "model_name": "HTMLModel",
          "state": {
            "_dom_classes": [],
            "_model_module": "@jupyter-widgets/controls",
            "_model_module_version": "1.5.0",
            "_model_name": "HTMLModel",
            "_view_count": null,
            "_view_module": "@jupyter-widgets/controls",
            "_view_module_version": "1.5.0",
            "_view_name": "HTMLView",
            "description": "",
            "description_tooltip": null,
            "layout": "IPY_MODEL_8aef3a212f4746c1b5eb85216f939081",
            "placeholder": "​",
            "style": "IPY_MODEL_5985f2fc9cc54464836eabd921699086",
            "value": " 507/507 [00:00&lt;00:00, 19.2kB/s]"
          }
        },
        "1292e647877b4541b2416a8c08709999": {
          "model_module": "@jupyter-widgets/controls",
          "model_module_version": "1.5.0",
          "model_name": "HTMLModel",
          "state": {
            "_dom_classes": [],
            "_model_module": "@jupyter-widgets/controls",
            "_model_module_version": "1.5.0",
            "_model_name": "HTMLModel",
            "_view_count": null,
            "_view_module": "@jupyter-widgets/controls",
            "_view_module_version": "1.5.0",
            "_view_name": "HTMLView",
            "description": "",
            "description_tooltip": null,
            "layout": "IPY_MODEL_a899a1a4cd004524921e1db7502e9145",
            "placeholder": "​",
            "style": "IPY_MODEL_b92f5ee2500d4b028e81ec8493b681dc",
            "value": "config.json: 100%"
          }
        },
        "1583285a5d4d413fa99b79b1ab9cd4a2": {
          "model_module": "@jupyter-widgets/controls",
          "model_module_version": "1.5.0",
          "model_name": "HBoxModel",
          "state": {
            "_dom_classes": [],
            "_model_module": "@jupyter-widgets/controls",
            "_model_module_version": "1.5.0",
            "_model_name": "HBoxModel",
            "_view_count": null,
            "_view_module": "@jupyter-widgets/controls",
            "_view_module_version": "1.5.0",
            "_view_name": "HBoxView",
            "box_style": "",
            "children": [
              "IPY_MODEL_bc504a40b9054e84ae63d934a751521c",
              "IPY_MODEL_6de19a9649c241ca86b7989fc8afeeb5",
              "IPY_MODEL_ae3569f11b48484b8dfd3c8b933aa951"
            ],
            "layout": "IPY_MODEL_e6e8739e28eb4fa0ac4de5b836a67609"
          }
        },
        "160a3d32867d4972ac559a55051dd6b2": {
          "model_module": "@jupyter-widgets/controls",
          "model_module_version": "1.5.0",
          "model_name": "HTMLModel",
          "state": {
            "_dom_classes": [],
            "_model_module": "@jupyter-widgets/controls",
            "_model_module_version": "1.5.0",
            "_model_name": "HTMLModel",
            "_view_count": null,
            "_view_module": "@jupyter-widgets/controls",
            "_view_module_version": "1.5.0",
            "_view_name": "HTMLView",
            "description": "",
            "description_tooltip": null,
            "layout": "IPY_MODEL_507c9337266f48e9bcb8ef806e39ff32",
            "placeholder": "​",
            "style": "IPY_MODEL_26bdf1fa45f04f15bd2e0202d3f68ddf",
            "value": "config.json: 100%"
          }
        },
        "1d99ea7271724d23b21e6ce0071c4c1e": {
          "model_module": "@jupyter-widgets/controls",
          "model_module_version": "1.5.0",
          "model_name": "ProgressStyleModel",
          "state": {
            "_model_module": "@jupyter-widgets/controls",
            "_model_module_version": "1.5.0",
            "_model_name": "ProgressStyleModel",
            "_view_count": null,
            "_view_module": "@jupyter-widgets/base",
            "_view_module_version": "1.2.0",
            "_view_name": "StyleView",
            "bar_color": null,
            "description_width": ""
          }
        },
        "217775fbdbc8471dbb92de22c727ea94": {
          "model_module": "@jupyter-widgets/base",
          "model_module_version": "1.2.0",
          "model_name": "LayoutModel",
          "state": {
            "_model_module": "@jupyter-widgets/base",
            "_model_module_version": "1.2.0",
            "_model_name": "LayoutModel",
            "_view_count": null,
            "_view_module": "@jupyter-widgets/base",
            "_view_module_version": "1.2.0",
            "_view_name": "LayoutView",
            "align_content": null,
            "align_items": null,
            "align_self": null,
            "border": null,
            "bottom": null,
            "display": null,
            "flex": null,
            "flex_flow": null,
            "grid_area": null,
            "grid_auto_columns": null,
            "grid_auto_flow": null,
            "grid_auto_rows": null,
            "grid_column": null,
            "grid_gap": null,
            "grid_row": null,
            "grid_template_areas": null,
            "grid_template_columns": null,
            "grid_template_rows": null,
            "height": null,
            "justify_content": null,
            "justify_items": null,
            "left": null,
            "margin": null,
            "max_height": null,
            "max_width": null,
            "min_height": null,
            "min_width": null,
            "object_fit": null,
            "object_position": null,
            "order": null,
            "overflow": null,
            "overflow_x": null,
            "overflow_y": null,
            "padding": null,
            "right": null,
            "top": null,
            "visibility": null,
            "width": null
          }
        },
        "223df99cdfa548e5848750cd5513f3ce": {
          "model_module": "@jupyter-widgets/base",
          "model_module_version": "1.2.0",
          "model_name": "LayoutModel",
          "state": {
            "_model_module": "@jupyter-widgets/base",
            "_model_module_version": "1.2.0",
            "_model_name": "LayoutModel",
            "_view_count": null,
            "_view_module": "@jupyter-widgets/base",
            "_view_module_version": "1.2.0",
            "_view_name": "LayoutView",
            "align_content": null,
            "align_items": null,
            "align_self": null,
            "border": null,
            "bottom": null,
            "display": null,
            "flex": null,
            "flex_flow": null,
            "grid_area": null,
            "grid_auto_columns": null,
            "grid_auto_flow": null,
            "grid_auto_rows": null,
            "grid_column": null,
            "grid_gap": null,
            "grid_row": null,
            "grid_template_areas": null,
            "grid_template_columns": null,
            "grid_template_rows": null,
            "height": null,
            "justify_content": null,
            "justify_items": null,
            "left": null,
            "margin": null,
            "max_height": null,
            "max_width": null,
            "min_height": null,
            "min_width": null,
            "object_fit": null,
            "object_position": null,
            "order": null,
            "overflow": null,
            "overflow_x": null,
            "overflow_y": null,
            "padding": null,
            "right": null,
            "top": null,
            "visibility": null,
            "width": null
          }
        },
        "23197eb8f2dd42309023b0b1fefcd2bb": {
          "model_module": "@jupyter-widgets/base",
          "model_module_version": "1.2.0",
          "model_name": "LayoutModel",
          "state": {
            "_model_module": "@jupyter-widgets/base",
            "_model_module_version": "1.2.0",
            "_model_name": "LayoutModel",
            "_view_count": null,
            "_view_module": "@jupyter-widgets/base",
            "_view_module_version": "1.2.0",
            "_view_name": "LayoutView",
            "align_content": null,
            "align_items": null,
            "align_self": null,
            "border": null,
            "bottom": null,
            "display": null,
            "flex": null,
            "flex_flow": null,
            "grid_area": null,
            "grid_auto_columns": null,
            "grid_auto_flow": null,
            "grid_auto_rows": null,
            "grid_column": null,
            "grid_gap": null,
            "grid_row": null,
            "grid_template_areas": null,
            "grid_template_columns": null,
            "grid_template_rows": null,
            "height": null,
            "justify_content": null,
            "justify_items": null,
            "left": null,
            "margin": null,
            "max_height": null,
            "max_width": null,
            "min_height": null,
            "min_width": null,
            "object_fit": null,
            "object_position": null,
            "order": null,
            "overflow": null,
            "overflow_x": null,
            "overflow_y": null,
            "padding": null,
            "right": null,
            "top": null,
            "visibility": null,
            "width": null
          }
        },
        "24a0b319dd674e6d8fcf624f3e7a8919": {
          "model_module": "@jupyter-widgets/controls",
          "model_module_version": "1.5.0",
          "model_name": "FloatProgressModel",
          "state": {
            "_dom_classes": [],
            "_model_module": "@jupyter-widgets/controls",
            "_model_module_version": "1.5.0",
            "_model_name": "FloatProgressModel",
            "_view_count": null,
            "_view_module": "@jupyter-widgets/controls",
            "_view_module_version": "1.5.0",
            "_view_name": "ProgressView",
            "bar_style": "success",
            "description": "",
            "description_tooltip": null,
            "layout": "IPY_MODEL_ce5ac180c6f548db9ea5cfd6c3a8fccd",
            "max": 29,
            "min": 0,
            "orientation": "horizontal",
            "style": "IPY_MODEL_83f590920e60466a9ef03e4216051dad",
            "value": 29
          }
        },
        "26bdf1fa45f04f15bd2e0202d3f68ddf": {
          "model_module": "@jupyter-widgets/controls",
          "model_module_version": "1.5.0",
          "model_name": "DescriptionStyleModel",
          "state": {
            "_model_module": "@jupyter-widgets/controls",
            "_model_module_version": "1.5.0",
            "_model_name": "DescriptionStyleModel",
            "_view_count": null,
            "_view_module": "@jupyter-widgets/base",
            "_view_module_version": "1.2.0",
            "_view_name": "StyleView",
            "description_width": ""
          }
        },
        "2858ae6d5ece4dc099797befebad608a": {
          "model_module": "@jupyter-widgets/controls",
          "model_module_version": "1.5.0",
          "model_name": "ProgressStyleModel",
          "state": {
            "_model_module": "@jupyter-widgets/controls",
            "_model_module_version": "1.5.0",
            "_model_name": "ProgressStyleModel",
            "_view_count": null,
            "_view_module": "@jupyter-widgets/base",
            "_view_module_version": "1.2.0",
            "_view_name": "StyleView",
            "bar_color": null,
            "description_width": ""
          }
        },
        "2db4e6ef9373417bb4da3838e34c45ac": {
          "model_module": "@jupyter-widgets/controls",
          "model_module_version": "1.5.0",
          "model_name": "DescriptionStyleModel",
          "state": {
            "_model_module": "@jupyter-widgets/controls",
            "_model_module_version": "1.5.0",
            "_model_name": "DescriptionStyleModel",
            "_view_count": null,
            "_view_module": "@jupyter-widgets/base",
            "_view_module_version": "1.2.0",
            "_view_name": "StyleView",
            "description_width": ""
          }
        },
        "31943197ee2b49b1b887c43227d9de3d": {
          "model_module": "@jupyter-widgets/controls",
          "model_module_version": "1.5.0",
          "model_name": "HBoxModel",
          "state": {
            "_dom_classes": [],
            "_model_module": "@jupyter-widgets/controls",
            "_model_module_version": "1.5.0",
            "_model_name": "HBoxModel",
            "_view_count": null,
            "_view_module": "@jupyter-widgets/controls",
            "_view_module_version": "1.5.0",
            "_view_name": "HBoxView",
            "box_style": "",
            "children": [
              "IPY_MODEL_160a3d32867d4972ac559a55051dd6b2",
              "IPY_MODEL_ce12a80a84664b58b4df8df8168edbaa",
              "IPY_MODEL_10a5a8e98b8d44089df5172a04b0ccea"
            ],
            "layout": "IPY_MODEL_fdc4929a788f4028951bd50530954e75"
          }
        },
        "3f792f057278401b93b36b0e3260b32c": {
          "model_module": "@jupyter-widgets/base",
          "model_module_version": "1.2.0",
          "model_name": "LayoutModel",
          "state": {
            "_model_module": "@jupyter-widgets/base",
            "_model_module_version": "1.2.0",
            "_model_name": "LayoutModel",
            "_view_count": null,
            "_view_module": "@jupyter-widgets/base",
            "_view_module_version": "1.2.0",
            "_view_name": "LayoutView",
            "align_content": null,
            "align_items": null,
            "align_self": null,
            "border": null,
            "bottom": null,
            "display": null,
            "flex": null,
            "flex_flow": null,
            "grid_area": null,
            "grid_auto_columns": null,
            "grid_auto_flow": null,
            "grid_auto_rows": null,
            "grid_column": null,
            "grid_gap": null,
            "grid_row": null,
            "grid_template_areas": null,
            "grid_template_columns": null,
            "grid_template_rows": null,
            "height": null,
            "justify_content": null,
            "justify_items": null,
            "left": null,
            "margin": null,
            "max_height": null,
            "max_width": null,
            "min_height": null,
            "min_width": null,
            "object_fit": null,
            "object_position": null,
            "order": null,
            "overflow": null,
            "overflow_x": null,
            "overflow_y": null,
            "padding": null,
            "right": null,
            "top": null,
            "visibility": null,
            "width": null
          }
        },
        "42e638088e2544f2b75d3ded983f092c": {
          "model_module": "@jupyter-widgets/controls",
          "model_module_version": "1.5.0",
          "model_name": "ProgressStyleModel",
          "state": {
            "_model_module": "@jupyter-widgets/controls",
            "_model_module_version": "1.5.0",
            "_model_name": "ProgressStyleModel",
            "_view_count": null,
            "_view_module": "@jupyter-widgets/base",
            "_view_module_version": "1.2.0",
            "_view_name": "StyleView",
            "bar_color": null,
            "description_width": ""
          }
        },
        "507c9337266f48e9bcb8ef806e39ff32": {
          "model_module": "@jupyter-widgets/base",
          "model_module_version": "1.2.0",
          "model_name": "LayoutModel",
          "state": {
            "_model_module": "@jupyter-widgets/base",
            "_model_module_version": "1.2.0",
            "_model_name": "LayoutModel",
            "_view_count": null,
            "_view_module": "@jupyter-widgets/base",
            "_view_module_version": "1.2.0",
            "_view_name": "LayoutView",
            "align_content": null,
            "align_items": null,
            "align_self": null,
            "border": null,
            "bottom": null,
            "display": null,
            "flex": null,
            "flex_flow": null,
            "grid_area": null,
            "grid_auto_columns": null,
            "grid_auto_flow": null,
            "grid_auto_rows": null,
            "grid_column": null,
            "grid_gap": null,
            "grid_row": null,
            "grid_template_areas": null,
            "grid_template_columns": null,
            "grid_template_rows": null,
            "height": null,
            "justify_content": null,
            "justify_items": null,
            "left": null,
            "margin": null,
            "max_height": null,
            "max_width": null,
            "min_height": null,
            "min_width": null,
            "object_fit": null,
            "object_position": null,
            "order": null,
            "overflow": null,
            "overflow_x": null,
            "overflow_y": null,
            "padding": null,
            "right": null,
            "top": null,
            "visibility": null,
            "width": null
          }
        },
        "50b4abe0c52c4a669dfa818f9646453c": {
          "model_module": "@jupyter-widgets/controls",
          "model_module_version": "1.5.0",
          "model_name": "HBoxModel",
          "state": {
            "_dom_classes": [],
            "_model_module": "@jupyter-widgets/controls",
            "_model_module_version": "1.5.0",
            "_model_name": "HBoxModel",
            "_view_count": null,
            "_view_module": "@jupyter-widgets/controls",
            "_view_module_version": "1.5.0",
            "_view_name": "HBoxView",
            "box_style": "",
            "children": [
              "IPY_MODEL_9edcfd83aa8e43adb44001a592b910fe",
              "IPY_MODEL_24a0b319dd674e6d8fcf624f3e7a8919",
              "IPY_MODEL_8591d1b6edf444d488eb840e7ad0ceb5"
            ],
            "layout": "IPY_MODEL_c6dc0323aac344b9bcf404a6aeaeec37"
          }
        },
        "5182d4414eb2425a84914f9f105200d6": {
          "model_module": "@jupyter-widgets/controls",
          "model_module_version": "1.5.0",
          "model_name": "HTMLModel",
          "state": {
            "_dom_classes": [],
            "_model_module": "@jupyter-widgets/controls",
            "_model_module_version": "1.5.0",
            "_model_name": "HTMLModel",
            "_view_count": null,
            "_view_module": "@jupyter-widgets/controls",
            "_view_module_version": "1.5.0",
            "_view_name": "HTMLView",
            "description": "",
            "description_tooltip": null,
            "layout": "IPY_MODEL_217775fbdbc8471dbb92de22c727ea94",
            "placeholder": "​",
            "style": "IPY_MODEL_a6edc404a2b34ee5a09d0c0a4b9ec1b1",
            "value": " 625/625 [00:00&lt;00:00, 22.5kB/s]"
          }
        },
        "5985f2fc9cc54464836eabd921699086": {
          "model_module": "@jupyter-widgets/controls",
          "model_module_version": "1.5.0",
          "model_name": "DescriptionStyleModel",
          "state": {
            "_model_module": "@jupyter-widgets/controls",
            "_model_module_version": "1.5.0",
            "_model_name": "DescriptionStyleModel",
            "_view_count": null,
            "_view_module": "@jupyter-widgets/base",
            "_view_module_version": "1.2.0",
            "_view_name": "StyleView",
            "description_width": ""
          }
        },
        "5bdbeeab9c8045b9b7029232473d6f80": {
          "model_module": "@jupyter-widgets/controls",
          "model_module_version": "1.5.0",
          "model_name": "DescriptionStyleModel",
          "state": {
            "_model_module": "@jupyter-widgets/controls",
            "_model_module_version": "1.5.0",
            "_model_name": "DescriptionStyleModel",
            "_view_count": null,
            "_view_module": "@jupyter-widgets/base",
            "_view_module_version": "1.2.0",
            "_view_name": "StyleView",
            "description_width": ""
          }
        },
        "64ae9360951c43c6ba0c37e4347616eb": {
          "model_module": "@jupyter-widgets/base",
          "model_module_version": "1.2.0",
          "model_name": "LayoutModel",
          "state": {
            "_model_module": "@jupyter-widgets/base",
            "_model_module_version": "1.2.0",
            "_model_name": "LayoutModel",
            "_view_count": null,
            "_view_module": "@jupyter-widgets/base",
            "_view_module_version": "1.2.0",
            "_view_name": "LayoutView",
            "align_content": null,
            "align_items": null,
            "align_self": null,
            "border": null,
            "bottom": null,
            "display": null,
            "flex": null,
            "flex_flow": null,
            "grid_area": null,
            "grid_auto_columns": null,
            "grid_auto_flow": null,
            "grid_auto_rows": null,
            "grid_column": null,
            "grid_gap": null,
            "grid_row": null,
            "grid_template_areas": null,
            "grid_template_columns": null,
            "grid_template_rows": null,
            "height": null,
            "justify_content": null,
            "justify_items": null,
            "left": null,
            "margin": null,
            "max_height": null,
            "max_width": null,
            "min_height": null,
            "min_width": null,
            "object_fit": null,
            "object_position": null,
            "order": null,
            "overflow": null,
            "overflow_x": null,
            "overflow_y": null,
            "padding": null,
            "right": null,
            "top": null,
            "visibility": null,
            "width": null
          }
        },
        "6de19a9649c241ca86b7989fc8afeeb5": {
          "model_module": "@jupyter-widgets/controls",
          "model_module_version": "1.5.0",
          "model_name": "FloatProgressModel",
          "state": {
            "_dom_classes": [],
            "_model_module": "@jupyter-widgets/controls",
            "_model_module_version": "1.5.0",
            "_model_name": "FloatProgressModel",
            "_view_count": null,
            "_view_module": "@jupyter-widgets/controls",
            "_view_module_version": "1.5.0",
            "_view_name": "ProgressView",
            "bar_style": "success",
            "description": "",
            "description_tooltip": null,
            "layout": "IPY_MODEL_0063347e9cc842f1918cdad33b53b568",
            "max": 5646064,
            "min": 0,
            "orientation": "horizontal",
            "style": "IPY_MODEL_700c97e546c242e480570ce35be6df83",
            "value": 5646064
          }
        },
        "700c97e546c242e480570ce35be6df83": {
          "model_module": "@jupyter-widgets/controls",
          "model_module_version": "1.5.0",
          "model_name": "ProgressStyleModel",
          "state": {
            "_model_module": "@jupyter-widgets/controls",
            "_model_module_version": "1.5.0",
            "_model_name": "ProgressStyleModel",
            "_view_count": null,
            "_view_module": "@jupyter-widgets/base",
            "_view_module_version": "1.2.0",
            "_view_name": "StyleView",
            "bar_color": null,
            "description_width": ""
          }
        },
        "758f3f67861f4229b90f04f2fff2ef25": {
          "model_module": "@jupyter-widgets/controls",
          "model_module_version": "1.5.0",
          "model_name": "HTMLModel",
          "state": {
            "_dom_classes": [],
            "_model_module": "@jupyter-widgets/controls",
            "_model_module_version": "1.5.0",
            "_model_name": "HTMLModel",
            "_view_count": null,
            "_view_module": "@jupyter-widgets/controls",
            "_view_module_version": "1.5.0",
            "_view_name": "HTMLView",
            "description": "",
            "description_tooltip": null,
            "layout": "IPY_MODEL_c8193c4b54ce43d2bbf786d2e0787d00",
            "placeholder": "​",
            "style": "IPY_MODEL_dd00cc412e7b4d11bc2961654441d511",
            "value": "tokenizer.json: 100%"
          }
        },
        "7e1a40263d114ac48d0ec9977bd1c3a3": {
          "model_module": "@jupyter-widgets/base",
          "model_module_version": "1.2.0",
          "model_name": "LayoutModel",
          "state": {
            "_model_module": "@jupyter-widgets/base",
            "_model_module_version": "1.2.0",
            "_model_name": "LayoutModel",
            "_view_count": null,
            "_view_module": "@jupyter-widgets/base",
            "_view_module_version": "1.2.0",
            "_view_name": "LayoutView",
            "align_content": null,
            "align_items": null,
            "align_self": null,
            "border": null,
            "bottom": null,
            "display": null,
            "flex": null,
            "flex_flow": null,
            "grid_area": null,
            "grid_auto_columns": null,
            "grid_auto_flow": null,
            "grid_auto_rows": null,
            "grid_column": null,
            "grid_gap": null,
            "grid_row": null,
            "grid_template_areas": null,
            "grid_template_columns": null,
            "grid_template_rows": null,
            "height": null,
            "justify_content": null,
            "justify_items": null,
            "left": null,
            "margin": null,
            "max_height": null,
            "max_width": null,
            "min_height": null,
            "min_width": null,
            "object_fit": null,
            "object_position": null,
            "order": null,
            "overflow": null,
            "overflow_x": null,
            "overflow_y": null,
            "padding": null,
            "right": null,
            "top": null,
            "visibility": null,
            "width": null
          }
        },
        "7f427cc01bce4298a7b543ef50e47daa": {
          "model_module": "@jupyter-widgets/controls",
          "model_module_version": "1.5.0",
          "model_name": "HTMLModel",
          "state": {
            "_dom_classes": [],
            "_model_module": "@jupyter-widgets/controls",
            "_model_module_version": "1.5.0",
            "_model_name": "HTMLModel",
            "_view_count": null,
            "_view_module": "@jupyter-widgets/controls",
            "_view_module_version": "1.5.0",
            "_view_name": "HTMLView",
            "description": "",
            "description_tooltip": null,
            "layout": "IPY_MODEL_b01224a15f4a4ec5b83e649d98e37e12",
            "placeholder": "​",
            "style": "IPY_MODEL_e0ef89ba23d94f7d9937b43b9c8d85f0",
            "value": " 1.96M/1.96M [00:00&lt;00:00, 15.8MB/s]"
          }
        },
        "80fefe22b81e465aa73fdbcf942b5901": {
          "model_module": "@jupyter-widgets/controls",
          "model_module_version": "1.5.0",
          "model_name": "DescriptionStyleModel",
          "state": {
            "_model_module": "@jupyter-widgets/controls",
            "_model_module_version": "1.5.0",
            "_model_name": "DescriptionStyleModel",
            "_view_count": null,
            "_view_module": "@jupyter-widgets/base",
            "_view_module_version": "1.2.0",
            "_view_name": "StyleView",
            "description_width": ""
          }
        },
        "825002abad9545188e00a7ffd1524b8f": {
          "model_module": "@jupyter-widgets/base",
          "model_module_version": "1.2.0",
          "model_name": "LayoutModel",
          "state": {
            "_model_module": "@jupyter-widgets/base",
            "_model_module_version": "1.2.0",
            "_model_name": "LayoutModel",
            "_view_count": null,
            "_view_module": "@jupyter-widgets/base",
            "_view_module_version": "1.2.0",
            "_view_name": "LayoutView",
            "align_content": null,
            "align_items": null,
            "align_self": null,
            "border": null,
            "bottom": null,
            "display": null,
            "flex": null,
            "flex_flow": null,
            "grid_area": null,
            "grid_auto_columns": null,
            "grid_auto_flow": null,
            "grid_auto_rows": null,
            "grid_column": null,
            "grid_gap": null,
            "grid_row": null,
            "grid_template_areas": null,
            "grid_template_columns": null,
            "grid_template_rows": null,
            "height": null,
            "justify_content": null,
            "justify_items": null,
            "left": null,
            "margin": null,
            "max_height": null,
            "max_width": null,
            "min_height": null,
            "min_width": null,
            "object_fit": null,
            "object_position": null,
            "order": null,
            "overflow": null,
            "overflow_x": null,
            "overflow_y": null,
            "padding": null,
            "right": null,
            "top": null,
            "visibility": null,
            "width": null
          }
        },
        "83f590920e60466a9ef03e4216051dad": {
          "model_module": "@jupyter-widgets/controls",
          "model_module_version": "1.5.0",
          "model_name": "ProgressStyleModel",
          "state": {
            "_model_module": "@jupyter-widgets/controls",
            "_model_module_version": "1.5.0",
            "_model_name": "ProgressStyleModel",
            "_view_count": null,
            "_view_module": "@jupyter-widgets/base",
            "_view_module_version": "1.2.0",
            "_view_name": "StyleView",
            "bar_color": null,
            "description_width": ""
          }
        },
        "8591d1b6edf444d488eb840e7ad0ceb5": {
          "model_module": "@jupyter-widgets/controls",
          "model_module_version": "1.5.0",
          "model_name": "HTMLModel",
          "state": {
            "_dom_classes": [],
            "_model_module": "@jupyter-widgets/controls",
            "_model_module_version": "1.5.0",
            "_model_name": "HTMLModel",
            "_view_count": null,
            "_view_module": "@jupyter-widgets/controls",
            "_view_module_version": "1.5.0",
            "_view_name": "HTMLView",
            "description": "",
            "description_tooltip": null,
            "layout": "IPY_MODEL_825002abad9545188e00a7ffd1524b8f",
            "placeholder": "​",
            "style": "IPY_MODEL_d94b11db9f094c13bc76c54a82ff4382",
            "value": " 29.0/29.0 [00:00&lt;00:00, 1.22kB/s]"
          }
        },
        "876f8b62f03d48b99d110fac2b674f39": {
          "model_module": "@jupyter-widgets/base",
          "model_module_version": "1.2.0",
          "model_name": "LayoutModel",
          "state": {
            "_model_module": "@jupyter-widgets/base",
            "_model_module_version": "1.2.0",
            "_model_name": "LayoutModel",
            "_view_count": null,
            "_view_module": "@jupyter-widgets/base",
            "_view_module_version": "1.2.0",
            "_view_name": "LayoutView",
            "align_content": null,
            "align_items": null,
            "align_self": null,
            "border": null,
            "bottom": null,
            "display": null,
            "flex": null,
            "flex_flow": null,
            "grid_area": null,
            "grid_auto_columns": null,
            "grid_auto_flow": null,
            "grid_auto_rows": null,
            "grid_column": null,
            "grid_gap": null,
            "grid_row": null,
            "grid_template_areas": null,
            "grid_template_columns": null,
            "grid_template_rows": null,
            "height": null,
            "justify_content": null,
            "justify_items": null,
            "left": null,
            "margin": null,
            "max_height": null,
            "max_width": null,
            "min_height": null,
            "min_width": null,
            "object_fit": null,
            "object_position": null,
            "order": null,
            "overflow": null,
            "overflow_x": null,
            "overflow_y": null,
            "padding": null,
            "right": null,
            "top": null,
            "visibility": null,
            "width": null
          }
        },
        "8aef3a212f4746c1b5eb85216f939081": {
          "model_module": "@jupyter-widgets/base",
          "model_module_version": "1.2.0",
          "model_name": "LayoutModel",
          "state": {
            "_model_module": "@jupyter-widgets/base",
            "_model_module_version": "1.2.0",
            "_model_name": "LayoutModel",
            "_view_count": null,
            "_view_module": "@jupyter-widgets/base",
            "_view_module_version": "1.2.0",
            "_view_name": "LayoutView",
            "align_content": null,
            "align_items": null,
            "align_self": null,
            "border": null,
            "bottom": null,
            "display": null,
            "flex": null,
            "flex_flow": null,
            "grid_area": null,
            "grid_auto_columns": null,
            "grid_auto_flow": null,
            "grid_auto_rows": null,
            "grid_column": null,
            "grid_gap": null,
            "grid_row": null,
            "grid_template_areas": null,
            "grid_template_columns": null,
            "grid_template_rows": null,
            "height": null,
            "justify_content": null,
            "justify_items": null,
            "left": null,
            "margin": null,
            "max_height": null,
            "max_width": null,
            "min_height": null,
            "min_width": null,
            "object_fit": null,
            "object_position": null,
            "order": null,
            "overflow": null,
            "overflow_x": null,
            "overflow_y": null,
            "padding": null,
            "right": null,
            "top": null,
            "visibility": null,
            "width": null
          }
        },
        "8e976906dd4e4fe1a543041f2ea79a8b": {
          "model_module": "@jupyter-widgets/controls",
          "model_module_version": "1.5.0",
          "model_name": "FloatProgressModel",
          "state": {
            "_dom_classes": [],
            "_model_module": "@jupyter-widgets/controls",
            "_model_module_version": "1.5.0",
            "_model_name": "FloatProgressModel",
            "_view_count": null,
            "_view_module": "@jupyter-widgets/controls",
            "_view_module_version": "1.5.0",
            "_view_name": "ProgressView",
            "bar_style": "success",
            "description": "",
            "description_tooltip": null,
            "layout": "IPY_MODEL_fd00c55f2a554d408dfa7b5afb471805",
            "max": 995526,
            "min": 0,
            "orientation": "horizontal",
            "style": "IPY_MODEL_b4df2260d8db4f43b5c42b2efa1c66da",
            "value": 995526
          }
        },
        "91f1ef2a8e364b1789614e84c2013f95": {
          "model_module": "@jupyter-widgets/controls",
          "model_module_version": "1.5.0",
          "model_name": "FloatProgressModel",
          "state": {
            "_dom_classes": [],
            "_model_module": "@jupyter-widgets/controls",
            "_model_module_version": "1.5.0",
            "_model_name": "FloatProgressModel",
            "_view_count": null,
            "_view_module": "@jupyter-widgets/controls",
            "_view_module_version": "1.5.0",
            "_view_name": "ProgressView",
            "bar_style": "success",
            "description": "",
            "description_tooltip": null,
            "layout": "IPY_MODEL_ad8156c8ff5847b9b07ac05e00afbd38",
            "max": 625,
            "min": 0,
            "orientation": "horizontal",
            "style": "IPY_MODEL_42e638088e2544f2b75d3ded983f092c",
            "value": 625
          }
        },
        "93b592fd28dc48159a685980af2a21d4": {
          "model_module": "@jupyter-widgets/controls",
          "model_module_version": "1.5.0",
          "model_name": "HTMLModel",
          "state": {
            "_dom_classes": [],
            "_model_module": "@jupyter-widgets/controls",
            "_model_module_version": "1.5.0",
            "_model_name": "HTMLModel",
            "_view_count": null,
            "_view_module": "@jupyter-widgets/controls",
            "_view_module_version": "1.5.0",
            "_view_name": "HTMLView",
            "description": "",
            "description_tooltip": null,
            "layout": "IPY_MODEL_7e1a40263d114ac48d0ec9977bd1c3a3",
            "placeholder": "​",
            "style": "IPY_MODEL_2db4e6ef9373417bb4da3838e34c45ac",
            "value": "vocab.txt: 100%"
          }
        },
        "995bbe7805af463d84c364d9a4cb906a": {
          "model_module": "@jupyter-widgets/base",
          "model_module_version": "1.2.0",
          "model_name": "LayoutModel",
          "state": {
            "_model_module": "@jupyter-widgets/base",
            "_model_module_version": "1.2.0",
            "_model_name": "LayoutModel",
            "_view_count": null,
            "_view_module": "@jupyter-widgets/base",
            "_view_module_version": "1.2.0",
            "_view_name": "LayoutView",
            "align_content": null,
            "align_items": null,
            "align_self": null,
            "border": null,
            "bottom": null,
            "display": null,
            "flex": null,
            "flex_flow": null,
            "grid_area": null,
            "grid_auto_columns": null,
            "grid_auto_flow": null,
            "grid_auto_rows": null,
            "grid_column": null,
            "grid_gap": null,
            "grid_row": null,
            "grid_template_areas": null,
            "grid_template_columns": null,
            "grid_template_rows": null,
            "height": null,
            "justify_content": null,
            "justify_items": null,
            "left": null,
            "margin": null,
            "max_height": null,
            "max_width": null,
            "min_height": null,
            "min_width": null,
            "object_fit": null,
            "object_position": null,
            "order": null,
            "overflow": null,
            "overflow_x": null,
            "overflow_y": null,
            "padding": null,
            "right": null,
            "top": null,
            "visibility": null,
            "width": null
          }
        },
        "9b2cc16b92b940a09efbc2d63154c459": {
          "model_module": "@jupyter-widgets/controls",
          "model_module_version": "1.5.0",
          "model_name": "HBoxModel",
          "state": {
            "_dom_classes": [],
            "_model_module": "@jupyter-widgets/controls",
            "_model_module_version": "1.5.0",
            "_model_name": "HBoxModel",
            "_view_count": null,
            "_view_module": "@jupyter-widgets/controls",
            "_view_module_version": "1.5.0",
            "_view_name": "HBoxView",
            "box_style": "",
            "children": [
              "IPY_MODEL_758f3f67861f4229b90f04f2fff2ef25",
              "IPY_MODEL_9b7af5e21f674b78a6ec53df32fd1b96",
              "IPY_MODEL_7f427cc01bce4298a7b543ef50e47daa"
            ],
            "layout": "IPY_MODEL_0190d232e7934dee860bee9758e38909"
          }
        },
        "9b7af5e21f674b78a6ec53df32fd1b96": {
          "model_module": "@jupyter-widgets/controls",
          "model_module_version": "1.5.0",
          "model_name": "FloatProgressModel",
          "state": {
            "_dom_classes": [],
            "_model_module": "@jupyter-widgets/controls",
            "_model_module_version": "1.5.0",
            "_model_name": "FloatProgressModel",
            "_view_count": null,
            "_view_module": "@jupyter-widgets/controls",
            "_view_module_version": "1.5.0",
            "_view_name": "ProgressView",
            "bar_style": "success",
            "description": "",
            "description_tooltip": null,
            "layout": "IPY_MODEL_3f792f057278401b93b36b0e3260b32c",
            "max": 1961828,
            "min": 0,
            "orientation": "horizontal",
            "style": "IPY_MODEL_1d99ea7271724d23b21e6ce0071c4c1e",
            "value": 1961828
          }
        },
        "9ca1d474ee4547a8953433d2e9a5df0b": {
          "model_module": "@jupyter-widgets/controls",
          "model_module_version": "1.5.0",
          "model_name": "DescriptionStyleModel",
          "state": {
            "_model_module": "@jupyter-widgets/controls",
            "_model_module_version": "1.5.0",
            "_model_name": "DescriptionStyleModel",
            "_view_count": null,
            "_view_module": "@jupyter-widgets/base",
            "_view_module_version": "1.2.0",
            "_view_name": "StyleView",
            "description_width": ""
          }
        },
        "9edcfd83aa8e43adb44001a592b910fe": {
          "model_module": "@jupyter-widgets/controls",
          "model_module_version": "1.5.0",
          "model_name": "HTMLModel",
          "state": {
            "_dom_classes": [],
            "_model_module": "@jupyter-widgets/controls",
            "_model_module_version": "1.5.0",
            "_model_name": "HTMLModel",
            "_view_count": null,
            "_view_module": "@jupyter-widgets/controls",
            "_view_module_version": "1.5.0",
            "_view_name": "HTMLView",
            "description": "",
            "description_tooltip": null,
            "layout": "IPY_MODEL_fa7b9a72ba074a6f82f65b2b0d51da53",
            "placeholder": "​",
            "style": "IPY_MODEL_80fefe22b81e465aa73fdbcf942b5901",
            "value": "tokenizer_config.json: 100%"
          }
        },
        "a14c864cd96045a28a4f93d2d394dd3e": {
          "model_module": "@jupyter-widgets/controls",
          "model_module_version": "1.5.0",
          "model_name": "HBoxModel",
          "state": {
            "_dom_classes": [],
            "_model_module": "@jupyter-widgets/controls",
            "_model_module_version": "1.5.0",
            "_model_name": "HBoxModel",
            "_view_count": null,
            "_view_module": "@jupyter-widgets/controls",
            "_view_module_version": "1.5.0",
            "_view_name": "HBoxView",
            "box_style": "",
            "children": [
              "IPY_MODEL_93b592fd28dc48159a685980af2a21d4",
              "IPY_MODEL_8e976906dd4e4fe1a543041f2ea79a8b",
              "IPY_MODEL_05bab5f8f1fb4c49a7526d884544ba09"
            ],
            "layout": "IPY_MODEL_223df99cdfa548e5848750cd5513f3ce"
          }
        },
        "a6edc404a2b34ee5a09d0c0a4b9ec1b1": {
          "model_module": "@jupyter-widgets/controls",
          "model_module_version": "1.5.0",
          "model_name": "DescriptionStyleModel",
          "state": {
            "_model_module": "@jupyter-widgets/controls",
            "_model_module_version": "1.5.0",
            "_model_name": "DescriptionStyleModel",
            "_view_count": null,
            "_view_module": "@jupyter-widgets/base",
            "_view_module_version": "1.2.0",
            "_view_name": "StyleView",
            "description_width": ""
          }
        },
        "a899a1a4cd004524921e1db7502e9145": {
          "model_module": "@jupyter-widgets/base",
          "model_module_version": "1.2.0",
          "model_name": "LayoutModel",
          "state": {
            "_model_module": "@jupyter-widgets/base",
            "_model_module_version": "1.2.0",
            "_model_name": "LayoutModel",
            "_view_count": null,
            "_view_module": "@jupyter-widgets/base",
            "_view_module_version": "1.2.0",
            "_view_name": "LayoutView",
            "align_content": null,
            "align_items": null,
            "align_self": null,
            "border": null,
            "bottom": null,
            "display": null,
            "flex": null,
            "flex_flow": null,
            "grid_area": null,
            "grid_auto_columns": null,
            "grid_auto_flow": null,
            "grid_auto_rows": null,
            "grid_column": null,
            "grid_gap": null,
            "grid_row": null,
            "grid_template_areas": null,
            "grid_template_columns": null,
            "grid_template_rows": null,
            "height": null,
            "justify_content": null,
            "justify_items": null,
            "left": null,
            "margin": null,
            "max_height": null,
            "max_width": null,
            "min_height": null,
            "min_width": null,
            "object_fit": null,
            "object_position": null,
            "order": null,
            "overflow": null,
            "overflow_x": null,
            "overflow_y": null,
            "padding": null,
            "right": null,
            "top": null,
            "visibility": null,
            "width": null
          }
        },
        "ad8156c8ff5847b9b07ac05e00afbd38": {
          "model_module": "@jupyter-widgets/base",
          "model_module_version": "1.2.0",
          "model_name": "LayoutModel",
          "state": {
            "_model_module": "@jupyter-widgets/base",
            "_model_module_version": "1.2.0",
            "_model_name": "LayoutModel",
            "_view_count": null,
            "_view_module": "@jupyter-widgets/base",
            "_view_module_version": "1.2.0",
            "_view_name": "LayoutView",
            "align_content": null,
            "align_items": null,
            "align_self": null,
            "border": null,
            "bottom": null,
            "display": null,
            "flex": null,
            "flex_flow": null,
            "grid_area": null,
            "grid_auto_columns": null,
            "grid_auto_flow": null,
            "grid_auto_rows": null,
            "grid_column": null,
            "grid_gap": null,
            "grid_row": null,
            "grid_template_areas": null,
            "grid_template_columns": null,
            "grid_template_rows": null,
            "height": null,
            "justify_content": null,
            "justify_items": null,
            "left": null,
            "margin": null,
            "max_height": null,
            "max_width": null,
            "min_height": null,
            "min_width": null,
            "object_fit": null,
            "object_position": null,
            "order": null,
            "overflow": null,
            "overflow_x": null,
            "overflow_y": null,
            "padding": null,
            "right": null,
            "top": null,
            "visibility": null,
            "width": null
          }
        },
        "ae3569f11b48484b8dfd3c8b933aa951": {
          "model_module": "@jupyter-widgets/controls",
          "model_module_version": "1.5.0",
          "model_name": "HTMLModel",
          "state": {
            "_dom_classes": [],
            "_model_module": "@jupyter-widgets/controls",
            "_model_module_version": "1.5.0",
            "_model_name": "HTMLModel",
            "_view_count": null,
            "_view_module": "@jupyter-widgets/controls",
            "_view_module_version": "1.5.0",
            "_view_name": "HTMLView",
            "description": "",
            "description_tooltip": null,
            "layout": "IPY_MODEL_876f8b62f03d48b99d110fac2b674f39",
            "placeholder": "​",
            "style": "IPY_MODEL_5bdbeeab9c8045b9b7029232473d6f80",
            "value": " 5.65M/5.65M [00:00&lt;00:00, 17.1MB/s]"
          }
        },
        "b01224a15f4a4ec5b83e649d98e37e12": {
          "model_module": "@jupyter-widgets/base",
          "model_module_version": "1.2.0",
          "model_name": "LayoutModel",
          "state": {
            "_model_module": "@jupyter-widgets/base",
            "_model_module_version": "1.2.0",
            "_model_name": "LayoutModel",
            "_view_count": null,
            "_view_module": "@jupyter-widgets/base",
            "_view_module_version": "1.2.0",
            "_view_name": "LayoutView",
            "align_content": null,
            "align_items": null,
            "align_self": null,
            "border": null,
            "bottom": null,
            "display": null,
            "flex": null,
            "flex_flow": null,
            "grid_area": null,
            "grid_auto_columns": null,
            "grid_auto_flow": null,
            "grid_auto_rows": null,
            "grid_column": null,
            "grid_gap": null,
            "grid_row": null,
            "grid_template_areas": null,
            "grid_template_columns": null,
            "grid_template_rows": null,
            "height": null,
            "justify_content": null,
            "justify_items": null,
            "left": null,
            "margin": null,
            "max_height": null,
            "max_width": null,
            "min_height": null,
            "min_width": null,
            "object_fit": null,
            "object_position": null,
            "order": null,
            "overflow": null,
            "overflow_x": null,
            "overflow_y": null,
            "padding": null,
            "right": null,
            "top": null,
            "visibility": null,
            "width": null
          }
        },
        "b4df2260d8db4f43b5c42b2efa1c66da": {
          "model_module": "@jupyter-widgets/controls",
          "model_module_version": "1.5.0",
          "model_name": "ProgressStyleModel",
          "state": {
            "_model_module": "@jupyter-widgets/controls",
            "_model_module_version": "1.5.0",
            "_model_name": "ProgressStyleModel",
            "_view_count": null,
            "_view_module": "@jupyter-widgets/base",
            "_view_module_version": "1.2.0",
            "_view_name": "StyleView",
            "bar_color": null,
            "description_width": ""
          }
        },
        "b92f5ee2500d4b028e81ec8493b681dc": {
          "model_module": "@jupyter-widgets/controls",
          "model_module_version": "1.5.0",
          "model_name": "DescriptionStyleModel",
          "state": {
            "_model_module": "@jupyter-widgets/controls",
            "_model_module_version": "1.5.0",
            "_model_name": "DescriptionStyleModel",
            "_view_count": null,
            "_view_module": "@jupyter-widgets/base",
            "_view_module_version": "1.2.0",
            "_view_name": "StyleView",
            "description_width": ""
          }
        },
        "bc504a40b9054e84ae63d934a751521c": {
          "model_module": "@jupyter-widgets/controls",
          "model_module_version": "1.5.0",
          "model_name": "HTMLModel",
          "state": {
            "_dom_classes": [],
            "_model_module": "@jupyter-widgets/controls",
            "_model_module_version": "1.5.0",
            "_model_name": "HTMLModel",
            "_view_count": null,
            "_view_module": "@jupyter-widgets/controls",
            "_view_module_version": "1.5.0",
            "_view_name": "HTMLView",
            "description": "",
            "description_tooltip": null,
            "layout": "IPY_MODEL_e8ccfa5d5bdd40deb46f4511e91c9ebf",
            "placeholder": "​",
            "style": "IPY_MODEL_9ca1d474ee4547a8953433d2e9a5df0b",
            "value": "spiece.model: 100%"
          }
        },
        "c6dc0323aac344b9bcf404a6aeaeec37": {
          "model_module": "@jupyter-widgets/base",
          "model_module_version": "1.2.0",
          "model_name": "LayoutModel",
          "state": {
            "_model_module": "@jupyter-widgets/base",
            "_model_module_version": "1.2.0",
            "_model_name": "LayoutModel",
            "_view_count": null,
            "_view_module": "@jupyter-widgets/base",
            "_view_module_version": "1.2.0",
            "_view_name": "LayoutView",
            "align_content": null,
            "align_items": null,
            "align_self": null,
            "border": null,
            "bottom": null,
            "display": null,
            "flex": null,
            "flex_flow": null,
            "grid_area": null,
            "grid_auto_columns": null,
            "grid_auto_flow": null,
            "grid_auto_rows": null,
            "grid_column": null,
            "grid_gap": null,
            "grid_row": null,
            "grid_template_areas": null,
            "grid_template_columns": null,
            "grid_template_rows": null,
            "height": null,
            "justify_content": null,
            "justify_items": null,
            "left": null,
            "margin": null,
            "max_height": null,
            "max_width": null,
            "min_height": null,
            "min_width": null,
            "object_fit": null,
            "object_position": null,
            "order": null,
            "overflow": null,
            "overflow_x": null,
            "overflow_y": null,
            "padding": null,
            "right": null,
            "top": null,
            "visibility": null,
            "width": null
          }
        },
        "c7adcabefdbd4c3c83d4c680748b13e0": {
          "model_module": "@jupyter-widgets/controls",
          "model_module_version": "1.5.0",
          "model_name": "HBoxModel",
          "state": {
            "_dom_classes": [],
            "_model_module": "@jupyter-widgets/controls",
            "_model_module_version": "1.5.0",
            "_model_name": "HBoxModel",
            "_view_count": null,
            "_view_module": "@jupyter-widgets/controls",
            "_view_module_version": "1.5.0",
            "_view_name": "HBoxView",
            "box_style": "",
            "children": [
              "IPY_MODEL_1292e647877b4541b2416a8c08709999",
              "IPY_MODEL_91f1ef2a8e364b1789614e84c2013f95",
              "IPY_MODEL_5182d4414eb2425a84914f9f105200d6"
            ],
            "layout": "IPY_MODEL_995bbe7805af463d84c364d9a4cb906a"
          }
        },
        "c8193c4b54ce43d2bbf786d2e0787d00": {
          "model_module": "@jupyter-widgets/base",
          "model_module_version": "1.2.0",
          "model_name": "LayoutModel",
          "state": {
            "_model_module": "@jupyter-widgets/base",
            "_model_module_version": "1.2.0",
            "_model_name": "LayoutModel",
            "_view_count": null,
            "_view_module": "@jupyter-widgets/base",
            "_view_module_version": "1.2.0",
            "_view_name": "LayoutView",
            "align_content": null,
            "align_items": null,
            "align_self": null,
            "border": null,
            "bottom": null,
            "display": null,
            "flex": null,
            "flex_flow": null,
            "grid_area": null,
            "grid_auto_columns": null,
            "grid_auto_flow": null,
            "grid_auto_rows": null,
            "grid_column": null,
            "grid_gap": null,
            "grid_row": null,
            "grid_template_areas": null,
            "grid_template_columns": null,
            "grid_template_rows": null,
            "height": null,
            "justify_content": null,
            "justify_items": null,
            "left": null,
            "margin": null,
            "max_height": null,
            "max_width": null,
            "min_height": null,
            "min_width": null,
            "object_fit": null,
            "object_position": null,
            "order": null,
            "overflow": null,
            "overflow_x": null,
            "overflow_y": null,
            "padding": null,
            "right": null,
            "top": null,
            "visibility": null,
            "width": null
          }
        },
        "ce12a80a84664b58b4df8df8168edbaa": {
          "model_module": "@jupyter-widgets/controls",
          "model_module_version": "1.5.0",
          "model_name": "FloatProgressModel",
          "state": {
            "_dom_classes": [],
            "_model_module": "@jupyter-widgets/controls",
            "_model_module_version": "1.5.0",
            "_model_name": "FloatProgressModel",
            "_view_count": null,
            "_view_module": "@jupyter-widgets/controls",
            "_view_module_version": "1.5.0",
            "_view_name": "ProgressView",
            "bar_style": "success",
            "description": "",
            "description_tooltip": null,
            "layout": "IPY_MODEL_64ae9360951c43c6ba0c37e4347616eb",
            "max": 507,
            "min": 0,
            "orientation": "horizontal",
            "style": "IPY_MODEL_2858ae6d5ece4dc099797befebad608a",
            "value": 507
          }
        },
        "ce5ac180c6f548db9ea5cfd6c3a8fccd": {
          "model_module": "@jupyter-widgets/base",
          "model_module_version": "1.2.0",
          "model_name": "LayoutModel",
          "state": {
            "_model_module": "@jupyter-widgets/base",
            "_model_module_version": "1.2.0",
            "_model_name": "LayoutModel",
            "_view_count": null,
            "_view_module": "@jupyter-widgets/base",
            "_view_module_version": "1.2.0",
            "_view_name": "LayoutView",
            "align_content": null,
            "align_items": null,
            "align_self": null,
            "border": null,
            "bottom": null,
            "display": null,
            "flex": null,
            "flex_flow": null,
            "grid_area": null,
            "grid_auto_columns": null,
            "grid_auto_flow": null,
            "grid_auto_rows": null,
            "grid_column": null,
            "grid_gap": null,
            "grid_row": null,
            "grid_template_areas": null,
            "grid_template_columns": null,
            "grid_template_rows": null,
            "height": null,
            "justify_content": null,
            "justify_items": null,
            "left": null,
            "margin": null,
            "max_height": null,
            "max_width": null,
            "min_height": null,
            "min_width": null,
            "object_fit": null,
            "object_position": null,
            "order": null,
            "overflow": null,
            "overflow_x": null,
            "overflow_y": null,
            "padding": null,
            "right": null,
            "top": null,
            "visibility": null,
            "width": null
          }
        },
        "d94b11db9f094c13bc76c54a82ff4382": {
          "model_module": "@jupyter-widgets/controls",
          "model_module_version": "1.5.0",
          "model_name": "DescriptionStyleModel",
          "state": {
            "_model_module": "@jupyter-widgets/controls",
            "_model_module_version": "1.5.0",
            "_model_name": "DescriptionStyleModel",
            "_view_count": null,
            "_view_module": "@jupyter-widgets/base",
            "_view_module_version": "1.2.0",
            "_view_name": "StyleView",
            "description_width": ""
          }
        },
        "dd00cc412e7b4d11bc2961654441d511": {
          "model_module": "@jupyter-widgets/controls",
          "model_module_version": "1.5.0",
          "model_name": "DescriptionStyleModel",
          "state": {
            "_model_module": "@jupyter-widgets/controls",
            "_model_module_version": "1.5.0",
            "_model_name": "DescriptionStyleModel",
            "_view_count": null,
            "_view_module": "@jupyter-widgets/base",
            "_view_module_version": "1.2.0",
            "_view_name": "StyleView",
            "description_width": ""
          }
        },
        "e0ef89ba23d94f7d9937b43b9c8d85f0": {
          "model_module": "@jupyter-widgets/controls",
          "model_module_version": "1.5.0",
          "model_name": "DescriptionStyleModel",
          "state": {
            "_model_module": "@jupyter-widgets/controls",
            "_model_module_version": "1.5.0",
            "_model_name": "DescriptionStyleModel",
            "_view_count": null,
            "_view_module": "@jupyter-widgets/base",
            "_view_module_version": "1.2.0",
            "_view_name": "StyleView",
            "description_width": ""
          }
        },
        "e6e8739e28eb4fa0ac4de5b836a67609": {
          "model_module": "@jupyter-widgets/base",
          "model_module_version": "1.2.0",
          "model_name": "LayoutModel",
          "state": {
            "_model_module": "@jupyter-widgets/base",
            "_model_module_version": "1.2.0",
            "_model_name": "LayoutModel",
            "_view_count": null,
            "_view_module": "@jupyter-widgets/base",
            "_view_module_version": "1.2.0",
            "_view_name": "LayoutView",
            "align_content": null,
            "align_items": null,
            "align_self": null,
            "border": null,
            "bottom": null,
            "display": null,
            "flex": null,
            "flex_flow": null,
            "grid_area": null,
            "grid_auto_columns": null,
            "grid_auto_flow": null,
            "grid_auto_rows": null,
            "grid_column": null,
            "grid_gap": null,
            "grid_row": null,
            "grid_template_areas": null,
            "grid_template_columns": null,
            "grid_template_rows": null,
            "height": null,
            "justify_content": null,
            "justify_items": null,
            "left": null,
            "margin": null,
            "max_height": null,
            "max_width": null,
            "min_height": null,
            "min_width": null,
            "object_fit": null,
            "object_position": null,
            "order": null,
            "overflow": null,
            "overflow_x": null,
            "overflow_y": null,
            "padding": null,
            "right": null,
            "top": null,
            "visibility": null,
            "width": null
          }
        },
        "e8ccfa5d5bdd40deb46f4511e91c9ebf": {
          "model_module": "@jupyter-widgets/base",
          "model_module_version": "1.2.0",
          "model_name": "LayoutModel",
          "state": {
            "_model_module": "@jupyter-widgets/base",
            "_model_module_version": "1.2.0",
            "_model_name": "LayoutModel",
            "_view_count": null,
            "_view_module": "@jupyter-widgets/base",
            "_view_module_version": "1.2.0",
            "_view_name": "LayoutView",
            "align_content": null,
            "align_items": null,
            "align_self": null,
            "border": null,
            "bottom": null,
            "display": null,
            "flex": null,
            "flex_flow": null,
            "grid_area": null,
            "grid_auto_columns": null,
            "grid_auto_flow": null,
            "grid_auto_rows": null,
            "grid_column": null,
            "grid_gap": null,
            "grid_row": null,
            "grid_template_areas": null,
            "grid_template_columns": null,
            "grid_template_rows": null,
            "height": null,
            "justify_content": null,
            "justify_items": null,
            "left": null,
            "margin": null,
            "max_height": null,
            "max_width": null,
            "min_height": null,
            "min_width": null,
            "object_fit": null,
            "object_position": null,
            "order": null,
            "overflow": null,
            "overflow_x": null,
            "overflow_y": null,
            "padding": null,
            "right": null,
            "top": null,
            "visibility": null,
            "width": null
          }
        },
        "fa7b9a72ba074a6f82f65b2b0d51da53": {
          "model_module": "@jupyter-widgets/base",
          "model_module_version": "1.2.0",
          "model_name": "LayoutModel",
          "state": {
            "_model_module": "@jupyter-widgets/base",
            "_model_module_version": "1.2.0",
            "_model_name": "LayoutModel",
            "_view_count": null,
            "_view_module": "@jupyter-widgets/base",
            "_view_module_version": "1.2.0",
            "_view_name": "LayoutView",
            "align_content": null,
            "align_items": null,
            "align_self": null,
            "border": null,
            "bottom": null,
            "display": null,
            "flex": null,
            "flex_flow": null,
            "grid_area": null,
            "grid_auto_columns": null,
            "grid_auto_flow": null,
            "grid_auto_rows": null,
            "grid_column": null,
            "grid_gap": null,
            "grid_row": null,
            "grid_template_areas": null,
            "grid_template_columns": null,
            "grid_template_rows": null,
            "height": null,
            "justify_content": null,
            "justify_items": null,
            "left": null,
            "margin": null,
            "max_height": null,
            "max_width": null,
            "min_height": null,
            "min_width": null,
            "object_fit": null,
            "object_position": null,
            "order": null,
            "overflow": null,
            "overflow_x": null,
            "overflow_y": null,
            "padding": null,
            "right": null,
            "top": null,
            "visibility": null,
            "width": null
          }
        },
        "fd00c55f2a554d408dfa7b5afb471805": {
          "model_module": "@jupyter-widgets/base",
          "model_module_version": "1.2.0",
          "model_name": "LayoutModel",
          "state": {
            "_model_module": "@jupyter-widgets/base",
            "_model_module_version": "1.2.0",
            "_model_name": "LayoutModel",
            "_view_count": null,
            "_view_module": "@jupyter-widgets/base",
            "_view_module_version": "1.2.0",
            "_view_name": "LayoutView",
            "align_content": null,
            "align_items": null,
            "align_self": null,
            "border": null,
            "bottom": null,
            "display": null,
            "flex": null,
            "flex_flow": null,
            "grid_area": null,
            "grid_auto_columns": null,
            "grid_auto_flow": null,
            "grid_auto_rows": null,
            "grid_column": null,
            "grid_gap": null,
            "grid_row": null,
            "grid_template_areas": null,
            "grid_template_columns": null,
            "grid_template_rows": null,
            "height": null,
            "justify_content": null,
            "justify_items": null,
            "left": null,
            "margin": null,
            "max_height": null,
            "max_width": null,
            "min_height": null,
            "min_width": null,
            "object_fit": null,
            "object_position": null,
            "order": null,
            "overflow": null,
            "overflow_x": null,
            "overflow_y": null,
            "padding": null,
            "right": null,
            "top": null,
            "visibility": null,
            "width": null
          }
        },
        "fdc4929a788f4028951bd50530954e75": {
          "model_module": "@jupyter-widgets/base",
          "model_module_version": "1.2.0",
          "model_name": "LayoutModel",
          "state": {
            "_model_module": "@jupyter-widgets/base",
            "_model_module_version": "1.2.0",
            "_model_name": "LayoutModel",
            "_view_count": null,
            "_view_module": "@jupyter-widgets/base",
            "_view_module_version": "1.2.0",
            "_view_name": "LayoutView",
            "align_content": null,
            "align_items": null,
            "align_self": null,
            "border": null,
            "bottom": null,
            "display": null,
            "flex": null,
            "flex_flow": null,
            "grid_area": null,
            "grid_auto_columns": null,
            "grid_auto_flow": null,
            "grid_auto_rows": null,
            "grid_column": null,
            "grid_gap": null,
            "grid_row": null,
            "grid_template_areas": null,
            "grid_template_columns": null,
            "grid_template_rows": null,
            "height": null,
            "justify_content": null,
            "justify_items": null,
            "left": null,
            "margin": null,
            "max_height": null,
            "max_width": null,
            "min_height": null,
            "min_width": null,
            "object_fit": null,
            "object_position": null,
            "order": null,
            "overflow": null,
            "overflow_x": null,
            "overflow_y": null,
            "padding": null,
            "right": null,
            "top": null,
            "visibility": null,
            "width": null
          }
        },
        "ff171d76839e4f5b9b926f888a02e281": {
          "model_module": "@jupyter-widgets/controls",
          "model_module_version": "1.5.0",
          "model_name": "DescriptionStyleModel",
          "state": {
            "_model_module": "@jupyter-widgets/controls",
            "_model_module_version": "1.5.0",
            "_model_name": "DescriptionStyleModel",
            "_view_count": null,
            "_view_module": "@jupyter-widgets/base",
            "_view_module_version": "1.2.0",
            "_view_name": "StyleView",
            "description_width": ""
          }
        }
      }
    }
  },
  "nbformat": 4,
  "nbformat_minor": 0
}
